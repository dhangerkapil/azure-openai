{
 "cells": [
  {
   "cell_type": "code",
   "execution_count": 1,
   "metadata": {},
   "outputs": [],
   "source": [
    "import pandas as pd\n",
    "import re\n",
    "import openai\n",
    "import re\n",
    "import requests\n",
    "import pandas as pd\n",
    "from openai.embeddings_utils import get_embedding, cosine_similarity\n",
    "\n",
    "API_KEY = \"c1173c2b55054c53b18e9eed1db42bf6\"\n",
    "RESOURCE_ENDPOINT = \"https://gpt-4-canadaeast.openai.azure.com/\" \n",
    "\n",
    "openai.api_type = \"azure\"\n",
    "openai.api_key = API_KEY\n",
    "openai.api_base = RESOURCE_ENDPOINT\n",
    "#Note: The openai-python library support for Azure OpenAI is in preview.\n",
    "openai.api_version = \"2023-05-15\"\n",
    "\n"
   ]
  },
  {
   "attachments": {},
   "cell_type": "markdown",
   "metadata": {},
   "source": [
    "## 1. Data generation (Skip this step if data is already generated )"
   ]
  },
  {
   "cell_type": "code",
   "execution_count": 2,
   "metadata": {},
   "outputs": [],
   "source": [
    "user_message = \"\"\n",
    "def generate_titles():\n",
    "    user_message =f\"\"\" \n",
    "    generate 100 titles of customer support articles in your industry, focusing on the areas of payroll and HR that support agent can look up to answer questions from customers who are employees with payroll managed by ADP.\n",
    "    Output data into a list \n",
    " \n",
    "\"\"\"\n",
    "\n",
    "    response = openai.ChatCompletion.create(\n",
    "        engine=\"gpt-35-turbo\", # engine = \"deployment_name\".\n",
    "        messages=[\n",
    "            {\"role\": \"system\", \"content\": \"You are a customer support agent for ADP company\"},\n",
    "            {\"role\": \"user\", \"content\":user_message },\n",
    "        ]\n",
    "    )\n",
    "    return response['choices'][0]['message']['content']\n",
    "            \n",
    "\n",
    "titles = generate_titles()"
   ]
  },
  {
   "cell_type": "code",
   "execution_count": 3,
   "metadata": {},
   "outputs": [],
   "source": [
    "titles = titles.split(\"\\n\")"
   ]
  },
  {
   "cell_type": "code",
   "execution_count": 4,
   "metadata": {},
   "outputs": [
    {
     "data": {
      "text/plain": [
       "['1. Understanding Your Payslip: A Guide for ADP Payroll Users',\n",
       " '2. How to Access and Navigate ADP Employee Self-Service Portal',\n",
       " '3. Troubleshooting Common Payroll Issues for ADP Users',\n",
       " '4. Understanding Tax Deductions: A Guide for ADP Payroll Users',\n",
       " '5. How to Update Personal Information in ADP Employee Self-Service',\n",
       " '6. Navigating Time and Attendance Tracking in ADP for Employees',\n",
       " '7. ADP Mobile App: A User Guide for Employee Payroll Access',\n",
       " '8. Resolving Errors in ADP Payroll Processing: A Step-by-Step Guide',\n",
       " '9. Understanding Your Vacation and Leave Balances in ADP',\n",
       " '10. Employee Benefits Enrollment: A Guide for ADP Payroll Users']"
      ]
     },
     "execution_count": 4,
     "metadata": {},
     "output_type": "execute_result"
    }
   ],
   "source": [
    "titles[:10]"
   ]
  },
  {
   "cell_type": "code",
   "execution_count": 5,
   "metadata": {},
   "outputs": [],
   "source": [
    "import time\n",
    "def generate_article(title):\n",
    "    user_message =f\"\"\" \n",
    "    given this title of an article \"{title}\" that support agents can look up to answer questions from customers who are employees with payroll managed by ADP.\n",
    "    Generate detail content of the article \n",
    " \n",
    "\"\"\"\n",
    "    i=0\n",
    "    while i<5:\n",
    "        try:\n",
    "            response = openai.ChatCompletion.create(\n",
    "                engine=\"gpt-35-turbo\", # engine = \"deployment_name\".\n",
    "                messages=[\n",
    "                    {\"role\": \"system\", \"content\": \"You are a customer support agent for ADP company\"},\n",
    "                    {\"role\": \"user\", \"content\":user_message },\n",
    "                ]\n",
    "            )\n",
    "            return response['choices'][0]['message']['content']\n",
    "        except:\n",
    "            i+=1\n",
    "            time.sleep(5)\n",
    "            \n",
    "\n",
    "contents =[]\n",
    "for title in titles:\n",
    "    contents.append(generate_article(title))"
   ]
  },
  {
   "cell_type": "code",
   "execution_count": 6,
   "metadata": {},
   "outputs": [],
   "source": [
    "import os\n",
    "folder_path =\"../../../data/agent_assistant\"\n",
    "os.makedirs(folder_path, exist_ok=True)\n",
    "i=0\n",
    "articles ={}\n",
    "for title, content in zip(titles, contents):\n",
    "    file_name = f\"article_{i}\"\n",
    "    file_content = title+\"\\n\\n\"+content\n",
    "\n",
    "    with open(os.path.join(folder_path,file_name), 'w') as file:\n",
    "        file.write(file_content)\n",
    "\n",
    "    articles[file_name]= file_content\n",
    "    i+=1\n",
    "\n"
   ]
  },
  {
   "attachments": {},
   "cell_type": "markdown",
   "metadata": {},
   "source": [
    "#### Document Chunking "
   ]
  },
  {
   "cell_type": "code",
   "execution_count": 7,
   "metadata": {},
   "outputs": [],
   "source": [
    "MAX_SECTION_LENGTH = 2000\n",
    "SENTENCE_SEARCH_LIMIT = 200\n",
    "SECTION_OVERLAP = 200\n",
    "verbose= True\n",
    "def split_text(all_text):\n",
    "    SENTENCE_ENDINGS = [\".\", \"!\", \"?\"]\n",
    "    WORDS_BREAKS = [\",\", \";\", \":\", \" \", \"(\", \")\", \"[\", \"]\", \"{\", \"}\", \"\\t\", \"\\n\"]\n",
    "    length = len(all_text)\n",
    "    start = 0\n",
    "    end = length\n",
    "    chunk=0\n",
    "    while start + SECTION_OVERLAP < length:\n",
    "        last_word = -1\n",
    "        end = start + MAX_SECTION_LENGTH\n",
    "\n",
    "        if end > length:\n",
    "            end = length\n",
    "        else:\n",
    "            # Try to find the end of the sentence\n",
    "            while end < length and (end - start - MAX_SECTION_LENGTH) < SENTENCE_SEARCH_LIMIT and all_text[end] not in SENTENCE_ENDINGS:\n",
    "                if all_text[end] in WORDS_BREAKS:\n",
    "                    last_word = end\n",
    "                end += 1\n",
    "            if end < length and all_text[end] not in SENTENCE_ENDINGS and last_word > 0:\n",
    "                end = last_word # Fall back to at least keeping a whole word\n",
    "        if end < length:\n",
    "            end += 1\n",
    "\n",
    "        # Try to find the start of the sentence or at least a whole word boundary\n",
    "        last_word = -1\n",
    "        while start > 0 and start > end - MAX_SECTION_LENGTH - 2 * SENTENCE_SEARCH_LIMIT and all_text[start] not in SENTENCE_ENDINGS:\n",
    "            if all_text[start] in WORDS_BREAKS:\n",
    "                last_word = start\n",
    "            start -= 1\n",
    "        if all_text[start] not in SENTENCE_ENDINGS and last_word > 0:\n",
    "            start = last_word\n",
    "        if start > 0:\n",
    "            start += 1\n",
    "\n",
    "        section_text = all_text[start:end]\n",
    "        chunk += 1\n",
    "        yield (section_text, chunk)\n",
    "\n",
    "        start = end - SECTION_OVERLAP\n",
    "        \n",
    "    if start + SECTION_OVERLAP < end:\n",
    "        yield (all_text[start:end], chunk)\n"
   ]
  },
  {
   "cell_type": "code",
   "execution_count": 8,
   "metadata": {},
   "outputs": [],
   "source": [
    "import json\n",
    "import os\n",
    "folder_path =\"../../data/agent_assistant\"\n",
    "with open(os.path.join(folder_path, \"articles.json\"), \"r\") as file:\n",
    "    articles = json.load(file)\n"
   ]
  },
  {
   "cell_type": "code",
   "execution_count": 9,
   "metadata": {},
   "outputs": [],
   "source": [
    "openai.api_version = \"2023-05-15\"\n",
    "import json\n",
    "import time\n",
    "chunked_articles=[]\n",
    "for article_file,article_content in articles.items():\n",
    "    article_chunks =[]\n",
    "    for chunk_content, chunk_number in split_text(article_content):\n",
    "        article_chunks.append(chunk_content)\n",
    "    chunked_articles.append((article_file,article_content, article_chunks))\n",
    "openai.api_version = \"2022-12-01\"\n",
    "chunks_emb=[]\n",
    "for article in chunked_articles:\n",
    "    chunks = article[2]\n",
    "    chunk_no =0\n",
    "    for chunk in chunks:\n",
    "        chunk_id= article[0]+\"###\"+ str(chunk_no)\n",
    "        chunk_emb = get_embedding(chunk, engine = 'text-embedding-ada-002')\n",
    "        chunks_emb.append((chunk_id, chunk, chunk_emb))\n",
    "        chunk_no += 1\n",
    "        "
   ]
  },
  {
   "attachments": {},
   "cell_type": "markdown",
   "metadata": {},
   "source": [
    "### Persist data"
   ]
  },
  {
   "cell_type": "code",
   "execution_count": 10,
   "metadata": {},
   "outputs": [],
   "source": [
    "import json\n",
    "folder_path =\"../../data/agent_assistant\"\n",
    "\n",
    "with open(os.path.join(folder_path,\"chunk_emb_map.json\"), \"w\") as fp:\n",
    "    json.dump(chunks_emb,fp) \n",
    "\n"
   ]
  },
  {
   "attachments": {},
   "cell_type": "markdown",
   "metadata": {},
   "source": [
    "## 2. Assistant Design"
   ]
  },
  {
   "attachments": {},
   "cell_type": "markdown",
   "metadata": {},
   "source": [
    "### Load data"
   ]
  },
  {
   "cell_type": "code",
   "execution_count": 11,
   "metadata": {},
   "outputs": [],
   "source": [
    "import json\n",
    "import os\n",
    "folder_path =\"../../data/agent_assistant\"\n",
    "with open(os.path.join(folder_path, \"chunk_emb_map.json\"), \"r\") as file:\n",
    "    chunks_emb = json.load(file)\n"
   ]
  },
  {
   "attachments": {},
   "cell_type": "markdown",
   "metadata": {},
   "source": [
    "### 1. Tool to generate conversation"
   ]
  },
  {
   "cell_type": "code",
   "execution_count": 12,
   "metadata": {},
   "outputs": [],
   "source": [
    "openai.api_version = \"2023-05-15\"\n",
    "\n",
    "def generate_conversation(streaming =False):\n",
    "    user_message =f\"\"\" \n",
    "    Generate a phone conversation between an customer's employee and an ADP support agent in the area of HR and Payroll. The employee has question and the support agent tried to identity the problems and \n",
    "    and take time to use different search tool to come up with answer to the employee.\n",
    "    Your response:\n",
    " \n",
    "\"\"\"\n",
    "    system_message = \"\"\"\n",
    "    You are a customer support agent for ADP company. \n",
    "\n",
    "    \"\"\"\n",
    "\n",
    "    response = openai.ChatCompletion.create(\n",
    "        engine=\"gpt-35-turbo\", # engine = \"deployment_name\".\n",
    "        messages=[\n",
    "            {\"role\": \"system\", \"content\": system_message},\n",
    "            {\"role\": \"user\", \"content\":user_message },\n",
    "        ],\n",
    "        stream=streaming\n",
    "    )\n",
    "    return response\n",
    "            \n"
   ]
  },
  {
   "attachments": {},
   "cell_type": "markdown",
   "metadata": {},
   "source": [
    "### 2. Tool to extract problems from conversation. "
   ]
  },
  {
   "cell_type": "code",
   "execution_count": 20,
   "metadata": {},
   "outputs": [
    {
     "data": {
      "text/plain": [
       "'{\"problem\":\"Employee is experiencing a discrepancy in their paycheck amount\", \"search_query\":\"paycheck discrepancy resolution ADP\"}'"
      ]
     },
     "execution_count": 20,
     "metadata": {},
     "output_type": "execute_result"
    }
   ],
   "source": [
    "openai.api_version = \"2023-05-15\"\n",
    "\n",
    "user_message = \"\"\n",
    "def extract_problems(conversation):\n",
    "    user_message =f\"\"\" \n",
    "    Follow this on going conversation below and extract problems that each party may need help with and formulate the search query to the knowledge base search tool.\n",
    "    <<conversattion>>\n",
    "    {conversation}\n",
    "    <<conversattion>>\n",
    "    Output your response in JSON format {{\"problem\":\"summary of problem\", \"search_query\":\"content of search query\"}}\n",
    "    There can be more than 1 problem(s)\n",
    "    Output just JSON, nothing else.\n",
    "    Your response:\n",
    " \n",
    "\"\"\"\n",
    "    system_message = \"\"\"\n",
    "    You are a senior customer support agent for ADP company. You listen to the conversation between an agent and a customer and assist the agent to resolve the problem.\n",
    "    You are given access to knowledge base search tool to find knowledge needed to find answer to questions. \n",
    "\n",
    "    \"\"\"\n",
    "\n",
    "    response = openai.ChatCompletion.create(\n",
    "        timeout=100,\n",
    "        engine=\"gpt-35-turbo\", # engine = \"deployment_name\".\n",
    "        messages=[\n",
    "            {\"role\": \"system\", \"content\": system_message},\n",
    "            {\"role\": \"user\", \"content\":user_message },\n",
    "        ]\n",
    "    )\n",
    "    return response['choices'][0]['message']['content']\n",
    "            \n",
    "conversation=generate_conversation()['choices'][0]['message']['content']\n",
    "problems=extract_problems(conversation)\n",
    "problems"
   ]
  },
  {
   "attachments": {},
   "cell_type": "markdown",
   "metadata": {},
   "source": [
    "### 3. Tool to find article given a problem"
   ]
  },
  {
   "attachments": {},
   "cell_type": "markdown",
   "metadata": {},
   "source": [
    "##### Brute Force method"
   ]
  },
  {
   "cell_type": "code",
   "execution_count": 13,
   "metadata": {},
   "outputs": [
    {
     "name": "stdout",
     "output_type": "stream",
     "text": [
      "[('article_0###1', '\\n\\nYear-to-Date Totals\\n\\nYour paycheck will include the year-to-date totals for your income, taxes, and contributions. This information will help you keep track of your earnings over the course of the year and prepare for tax season.\\n\\nIn conclusion, understanding your paycheck is important in managing your finances and planning for your future. If you have any questions about your paycheck or any other payroll-related issues, contact ADP customer support for assistance.', 0.8095147981219576), ('article_7###0', '8. Understanding Your ADP Pay Stub: What You Need to Know \\n\\nIntroduction \\nAs an employee whose payroll is managed by ADP, understanding your pay stub is important. Your pay stub is a statement that shows you how much money you earned for a particular pay period, as well as deductions made from your earnings. In this article, we will help you understand how to read and understand your ADP pay stub.\\n\\n1. Gross Pay \\nThis is the total amount of money you have earned during the pay period including your regular wages, overtime pay, bonuses and commissions. It is the amount of money you earned before any deductions were made.\\n\\n2. Federal Taxes \\nThese are taxes that are paid to the federal government. The amount withheld will depend on the amount of money you earn and the exemptions claimed on your W-4 form. If you have any questions about your exemptions, you should speak with your HR department or a tax professional.\\n\\n3. State Taxes \\nThese are taxes that are paid to your state of residence. Like federal taxes, the amount withheld will depend on your earnings and exemptions claimed on your W-4 form.\\n\\n4. Social Security and Medicare \\nThese are taxes that are paid to the federal government to fund Social Security and Medicare programs. These deductions are based on a percentage of your earnings.\\n\\n5. Retirement Savings Plan \\nIf you are enrolled in a company-sponsored retirement savings plan, such as a 401(k), your contributions will be listed on your pay stub. This deduction reduces your taxable income and helps you save for retirement.\\n\\n6. Health Insurance \\nIf you have health insurance through your employer, your premium payments may be deducted from your paycheck. The amount deducted will depend on the type of plan you have and the amount your employer pays.\\n\\n7. Other Deductions \\nYour pay stub may also include other deductions such as union dues, garnishments or wage attachments, or additional voluntary contributions to your retirement savings plan.\\n\\n8. Net Pay \\nThis is your take-home pay after all of your deductions have been made.', 0.7988862311317366), ('article_0###0', \"1. Understanding Your Paycheck: A Guide for ADP Payroll Customers \\n\\n1. Understanding Your Paycheck: A Guide for ADP Payroll Customers\\n\\nAs an ADP Payroll customer, you may receive your paycheck via direct deposit or a physical check. It is important to understand the different sections of your paycheck and what they represent. This guide will help you understand your paycheck and answer any questions you may have.\\n\\nGross Pay\\n\\nThe first section of your paycheck will show your gross pay. This is the amount of money you earned before any taxes, deductions, or contributions were taken out. Your gross pay may include regular pay, overtime pay, holiday pay, or any other additional compensation.\\n\\nTaxes\\n\\nThe next section of your paycheck will show the different taxes you are required to pay. This may include federal income tax, state income tax, Social Security tax, and Medicare tax. The amount of taxes you pay will depend on your income, your tax exemptions, and your state's tax laws.\\n\\nDeductions\\n\\nThe deductions section of your paycheck will show any money that was taken out of your paycheck before you received it. This may include health insurance premiums, retirement contributions, and any other voluntary deductions you have chosen to make. It is important to understand these deductions and their impact on your overall take-home pay.\\n\\nNet Pay\\n\\nYour net pay is the amount of money you receive after all taxes, deductions, and contributions have been taken out of your gross pay. This is the final amount that you will receive on your paycheck.\\n\\nPay Period\\n\\nYour paycheck will also show the pay period for which you are being paid. This may be a weekly, bi-weekly, or monthly pay period. Knowing your pay period will help you understand how often you are paid and when to expect your next paycheck.\\n\\nYear-to-Date Totals\\n\\nYour paycheck will include the year-to-date totals for your income, taxes, and contributions. This information will help you keep track of your earnings over the course of the year and prepare for tax season.\", 0.7981180342873324), ('article_7###1', ' Other Deductions \\nYour pay stub may also include other deductions such as union dues, garnishments or wage attachments, or additional voluntary contributions to your retirement savings plan.\\n\\n8. Net Pay \\nThis is your take-home pay after all of your deductions have been made. It is the amount of money that will be deposited into your bank account or given to you in a paycheck.\\n\\nConclusion \\nUnderstanding your ADP pay stub is important for managing your finances and preparing your tax returns. By knowing how to read and interpret the various sections of your pay stub, you can better understand your earnings and deductions, and make any necessary adjustments to your payroll withholdings. If you have any questions or need further assistance, don’t hesitate to reach out to your HR department or ADP support team.', 0.7861383474686291), ('article_35###1', '\\n\\n4) Overtime Calculation\\nIssue: Some employees may notice that they are not paid for overtime hours worked.\\nTroubleshooting Steps: Employees should ensure that they are correctly classified as non-exempt and that they work over 40 hours per week or any other applicable overtime threshold. If an employee works overtime but has not received payment, they should notify their supervisor or HR manager immediately to rectify the issue.\\n\\n5) Incorrect Payroll Deductions\\nIssue: Employees may notice incorrect payroll deductions.\\nTroubleshooting Steps: Employees should review their pay stubs prior to signing to ensure accuracy. If there are any discrepancies in the deductions, the employee should contact their supervisor or HR manager immediately to rectify any inaccuracies.\\n\\nConclusion\\nIn ADP Time and Attendance, errors can occur that create inconveniences for employees. However, by following the above troubleshooting steps, employees can rectify any issues and ensure accurate records of their time worked. They should not hesitate to contact their HR manager or supervisor for any further assistance or clarification.', 0.7859672171378294)]\n"
     ]
    },
    {
     "data": {
      "text/plain": [
       "(['article_0###1',\n",
       "  'article_7###0',\n",
       "  'article_0###0',\n",
       "  'article_7###1',\n",
       "  'article_35###1'],\n",
       " ['\\n\\nYear-to-Date Totals\\n\\nYour paycheck will include the year-to-date totals for your income, taxes, and contributions. This information will help you keep track of your earnings over the course of the year and prepare for tax season.\\n\\nIn conclusion, understanding your paycheck is important in managing your finances and planning for your future. If you have any questions about your paycheck or any other payroll-related issues, contact ADP customer support for assistance.',\n",
       "  '8. Understanding Your ADP Pay Stub: What You Need to Know \\n\\nIntroduction \\nAs an employee whose payroll is managed by ADP, understanding your pay stub is important. Your pay stub is a statement that shows you how much money you earned for a particular pay period, as well as deductions made from your earnings. In this article, we will help you understand how to read and understand your ADP pay stub.\\n\\n1. Gross Pay \\nThis is the total amount of money you have earned during the pay period including your regular wages, overtime pay, bonuses and commissions. It is the amount of money you earned before any deductions were made.\\n\\n2. Federal Taxes \\nThese are taxes that are paid to the federal government. The amount withheld will depend on the amount of money you earn and the exemptions claimed on your W-4 form. If you have any questions about your exemptions, you should speak with your HR department or a tax professional.\\n\\n3. State Taxes \\nThese are taxes that are paid to your state of residence. Like federal taxes, the amount withheld will depend on your earnings and exemptions claimed on your W-4 form.\\n\\n4. Social Security and Medicare \\nThese are taxes that are paid to the federal government to fund Social Security and Medicare programs. These deductions are based on a percentage of your earnings.\\n\\n5. Retirement Savings Plan \\nIf you are enrolled in a company-sponsored retirement savings plan, such as a 401(k), your contributions will be listed on your pay stub. This deduction reduces your taxable income and helps you save for retirement.\\n\\n6. Health Insurance \\nIf you have health insurance through your employer, your premium payments may be deducted from your paycheck. The amount deducted will depend on the type of plan you have and the amount your employer pays.\\n\\n7. Other Deductions \\nYour pay stub may also include other deductions such as union dues, garnishments or wage attachments, or additional voluntary contributions to your retirement savings plan.\\n\\n8. Net Pay \\nThis is your take-home pay after all of your deductions have been made.',\n",
       "  \"1. Understanding Your Paycheck: A Guide for ADP Payroll Customers \\n\\n1. Understanding Your Paycheck: A Guide for ADP Payroll Customers\\n\\nAs an ADP Payroll customer, you may receive your paycheck via direct deposit or a physical check. It is important to understand the different sections of your paycheck and what they represent. This guide will help you understand your paycheck and answer any questions you may have.\\n\\nGross Pay\\n\\nThe first section of your paycheck will show your gross pay. This is the amount of money you earned before any taxes, deductions, or contributions were taken out. Your gross pay may include regular pay, overtime pay, holiday pay, or any other additional compensation.\\n\\nTaxes\\n\\nThe next section of your paycheck will show the different taxes you are required to pay. This may include federal income tax, state income tax, Social Security tax, and Medicare tax. The amount of taxes you pay will depend on your income, your tax exemptions, and your state's tax laws.\\n\\nDeductions\\n\\nThe deductions section of your paycheck will show any money that was taken out of your paycheck before you received it. This may include health insurance premiums, retirement contributions, and any other voluntary deductions you have chosen to make. It is important to understand these deductions and their impact on your overall take-home pay.\\n\\nNet Pay\\n\\nYour net pay is the amount of money you receive after all taxes, deductions, and contributions have been taken out of your gross pay. This is the final amount that you will receive on your paycheck.\\n\\nPay Period\\n\\nYour paycheck will also show the pay period for which you are being paid. This may be a weekly, bi-weekly, or monthly pay period. Knowing your pay period will help you understand how often you are paid and when to expect your next paycheck.\\n\\nYear-to-Date Totals\\n\\nYour paycheck will include the year-to-date totals for your income, taxes, and contributions. This information will help you keep track of your earnings over the course of the year and prepare for tax season.\",\n",
       "  ' Other Deductions \\nYour pay stub may also include other deductions such as union dues, garnishments or wage attachments, or additional voluntary contributions to your retirement savings plan.\\n\\n8. Net Pay \\nThis is your take-home pay after all of your deductions have been made. It is the amount of money that will be deposited into your bank account or given to you in a paycheck.\\n\\nConclusion \\nUnderstanding your ADP pay stub is important for managing your finances and preparing your tax returns. By knowing how to read and interpret the various sections of your pay stub, you can better understand your earnings and deductions, and make any necessary adjustments to your payroll withholdings. If you have any questions or need further assistance, don’t hesitate to reach out to your HR department or ADP support team.',\n",
       "  '\\n\\n4) Overtime Calculation\\nIssue: Some employees may notice that they are not paid for overtime hours worked.\\nTroubleshooting Steps: Employees should ensure that they are correctly classified as non-exempt and that they work over 40 hours per week or any other applicable overtime threshold. If an employee works overtime but has not received payment, they should notify their supervisor or HR manager immediately to rectify the issue.\\n\\n5) Incorrect Payroll Deductions\\nIssue: Employees may notice incorrect payroll deductions.\\nTroubleshooting Steps: Employees should review their pay stubs prior to signing to ensure accuracy. If there are any discrepancies in the deductions, the employee should contact their supervisor or HR manager immediately to rectify any inaccuracies.\\n\\nConclusion\\nIn ADP Time and Attendance, errors can occur that create inconveniences for employees. However, by following the above troubleshooting steps, employees can rectify any issues and ensure accurate records of their time worked. They should not hesitate to contact their HR manager or supervisor for any further assistance or clarification.'])"
      ]
     },
     "execution_count": 13,
     "metadata": {},
     "output_type": "execute_result"
    }
   ],
   "source": [
    "import numpy as np  \n",
    "openai.api_version = \"2022-12-01\"\n",
    "\n",
    "def find_article(question, topk=5):  \n",
    "    \"\"\"  \n",
    "    Given an input vector and a dictionary of label vectors,  \n",
    "    returns the label with the highest cosine similarity to the input vector.  \n",
    "    \"\"\"  \n",
    "    input_vector = get_embedding(question, engine = 'text-embedding-ada-002')\n",
    "    best_file_name = None  \n",
    "      \n",
    "    # Compute cosine similarity between input vector and each label vector\n",
    "    cosine_list=[]  \n",
    "    for chunk_id,chunk_content, vector in chunks_emb:  \n",
    "        #by default, we use embedding for the entire content of the topic (plus topic descrition).\n",
    "        # If you you want to use embedding on just topic name and description use this code cosine_sim = cosine_similarity(input_vector, vector[0])\n",
    "        cosine_sim = cosine_similarity(input_vector, vector) \n",
    "        cosine_list.append((chunk_id,chunk_content,cosine_sim ))\n",
    "    cosine_list.sort(key=lambda x:x[2],reverse=True)\n",
    "    cosine_list= cosine_list[:topk]\n",
    "    print(cosine_list)\n",
    "    best_chunks =[chunk[0] for chunk in cosine_list]\n",
    "    contents = [chunk[1] for chunk in cosine_list]\n",
    "    return best_chunks, contents\n",
    "question = \"Why is my paycheck smaller than usual\"\n",
    "find_article(question)"
   ]
  },
  {
   "attachments": {},
   "cell_type": "markdown",
   "metadata": {},
   "source": [
    "#### Vector Searh Lib (Faiss) method"
   ]
  },
  {
   "cell_type": "code",
   "execution_count": 15,
   "metadata": {},
   "outputs": [
    {
     "name": "stdout",
     "output_type": "stream",
     "text": [
      "[[0.8133553  0.8012111  0.8003706  0.78765255 0.7852054 ]]\n"
     ]
    },
    {
     "data": {
      "text/plain": [
       "(['article_0###1',\n",
       "  'article_0###0',\n",
       "  'article_7###0',\n",
       "  'article_7###1',\n",
       "  'article_35###1'],\n",
       " ['\\n\\nYear-to-Date Totals\\n\\nYour paycheck will include the year-to-date totals for your income, taxes, and contributions. This information will help you keep track of your earnings over the course of the year and prepare for tax season.\\n\\nIn conclusion, understanding your paycheck is important in managing your finances and planning for your future. If you have any questions about your paycheck or any other payroll-related issues, contact ADP customer support for assistance.',\n",
       "  \"1. Understanding Your Paycheck: A Guide for ADP Payroll Customers \\n\\n1. Understanding Your Paycheck: A Guide for ADP Payroll Customers\\n\\nAs an ADP Payroll customer, you may receive your paycheck via direct deposit or a physical check. It is important to understand the different sections of your paycheck and what they represent. This guide will help you understand your paycheck and answer any questions you may have.\\n\\nGross Pay\\n\\nThe first section of your paycheck will show your gross pay. This is the amount of money you earned before any taxes, deductions, or contributions were taken out. Your gross pay may include regular pay, overtime pay, holiday pay, or any other additional compensation.\\n\\nTaxes\\n\\nThe next section of your paycheck will show the different taxes you are required to pay. This may include federal income tax, state income tax, Social Security tax, and Medicare tax. The amount of taxes you pay will depend on your income, your tax exemptions, and your state's tax laws.\\n\\nDeductions\\n\\nThe deductions section of your paycheck will show any money that was taken out of your paycheck before you received it. This may include health insurance premiums, retirement contributions, and any other voluntary deductions you have chosen to make. It is important to understand these deductions and their impact on your overall take-home pay.\\n\\nNet Pay\\n\\nYour net pay is the amount of money you receive after all taxes, deductions, and contributions have been taken out of your gross pay. This is the final amount that you will receive on your paycheck.\\n\\nPay Period\\n\\nYour paycheck will also show the pay period for which you are being paid. This may be a weekly, bi-weekly, or monthly pay period. Knowing your pay period will help you understand how often you are paid and when to expect your next paycheck.\\n\\nYear-to-Date Totals\\n\\nYour paycheck will include the year-to-date totals for your income, taxes, and contributions. This information will help you keep track of your earnings over the course of the year and prepare for tax season.\",\n",
       "  '8. Understanding Your ADP Pay Stub: What You Need to Know \\n\\nIntroduction \\nAs an employee whose payroll is managed by ADP, understanding your pay stub is important. Your pay stub is a statement that shows you how much money you earned for a particular pay period, as well as deductions made from your earnings. In this article, we will help you understand how to read and understand your ADP pay stub.\\n\\n1. Gross Pay \\nThis is the total amount of money you have earned during the pay period including your regular wages, overtime pay, bonuses and commissions. It is the amount of money you earned before any deductions were made.\\n\\n2. Federal Taxes \\nThese are taxes that are paid to the federal government. The amount withheld will depend on the amount of money you earn and the exemptions claimed on your W-4 form. If you have any questions about your exemptions, you should speak with your HR department or a tax professional.\\n\\n3. State Taxes \\nThese are taxes that are paid to your state of residence. Like federal taxes, the amount withheld will depend on your earnings and exemptions claimed on your W-4 form.\\n\\n4. Social Security and Medicare \\nThese are taxes that are paid to the federal government to fund Social Security and Medicare programs. These deductions are based on a percentage of your earnings.\\n\\n5. Retirement Savings Plan \\nIf you are enrolled in a company-sponsored retirement savings plan, such as a 401(k), your contributions will be listed on your pay stub. This deduction reduces your taxable income and helps you save for retirement.\\n\\n6. Health Insurance \\nIf you have health insurance through your employer, your premium payments may be deducted from your paycheck. The amount deducted will depend on the type of plan you have and the amount your employer pays.\\n\\n7. Other Deductions \\nYour pay stub may also include other deductions such as union dues, garnishments or wage attachments, or additional voluntary contributions to your retirement savings plan.\\n\\n8. Net Pay \\nThis is your take-home pay after all of your deductions have been made.',\n",
       "  ' Other Deductions \\nYour pay stub may also include other deductions such as union dues, garnishments or wage attachments, or additional voluntary contributions to your retirement savings plan.\\n\\n8. Net Pay \\nThis is your take-home pay after all of your deductions have been made. It is the amount of money that will be deposited into your bank account or given to you in a paycheck.\\n\\nConclusion \\nUnderstanding your ADP pay stub is important for managing your finances and preparing your tax returns. By knowing how to read and interpret the various sections of your pay stub, you can better understand your earnings and deductions, and make any necessary adjustments to your payroll withholdings. If you have any questions or need further assistance, don’t hesitate to reach out to your HR department or ADP support team.',\n",
       "  '\\n\\n4) Overtime Calculation\\nIssue: Some employees may notice that they are not paid for overtime hours worked.\\nTroubleshooting Steps: Employees should ensure that they are correctly classified as non-exempt and that they work over 40 hours per week or any other applicable overtime threshold. If an employee works overtime but has not received payment, they should notify their supervisor or HR manager immediately to rectify the issue.\\n\\n5) Incorrect Payroll Deductions\\nIssue: Employees may notice incorrect payroll deductions.\\nTroubleshooting Steps: Employees should review their pay stubs prior to signing to ensure accuracy. If there are any discrepancies in the deductions, the employee should contact their supervisor or HR manager immediately to rectify any inaccuracies.\\n\\nConclusion\\nIn ADP Time and Attendance, errors can occur that create inconveniences for employees. However, by following the above troubleshooting steps, employees can rectify any issues and ensure accurate records of their time worked. They should not hesitate to contact their HR manager or supervisor for any further assistance or clarification.'])"
      ]
     },
     "execution_count": 15,
     "metadata": {},
     "output_type": "execute_result"
    }
   ],
   "source": [
    "import numpy as np  \n",
    "import faiss\n",
    "\n",
    "openai.api_version = \"2022-12-01\"\n",
    "#Get the array of embeddings for all articles\n",
    "chunk_ids =[]\n",
    "emb_vectors = []\n",
    "for chunk_id,chunk_content, vector in chunks_emb:  \n",
    "    #by default, we use embedding for the entire content of the topic (plus topic descrition).\n",
    "    # If you you want to use embedding on just topic name and description use this code cosine_sim = cosine_similarity(input_vector, vector[0])\n",
    "    chunk_ids.append(chunk_id)\n",
    "    emb_vectors.append(vector)\n",
    "emb_vectors = np.float32(emb_vectors)\n",
    "faiss.normalize_L2(emb_vectors)\n",
    "\n",
    "index = faiss.IndexFlatIP(len(vector)) \n",
    "index.add(emb_vectors)\n",
    "\n",
    "\n",
    "def find_article_emb_vec(question, topk=3):  \n",
    "    \"\"\"  \n",
    "    Given an input vector and a dictionary of label vectors,  \n",
    "    returns the label with the highest cosine similarity to the input vector.  \n",
    "    \"\"\"  \n",
    "    input_vector = get_embedding(question, engine = 'text-embedding-ada-002')\n",
    "    input_vector = np.float32([input_vector])\n",
    "    faiss.normalize_L2(input_vector)\n",
    "    d,i = index.search(input_vector, k=topk)\n",
    "    best_chunks = [chunks_emb[idx] for idx in i[0]]\n",
    "    print(d)\n",
    "    output_contents=[chunk[1] for chunk in best_chunks]\n",
    "    chunks =[chunk[0] for chunk in best_chunks]\n",
    "    return chunks, output_contents\n",
    "question = \"Why is my paycheck  smaller than usual\"\n",
    "find_article_emb_vec(question,5)"
   ]
  },
  {
   "attachments": {},
   "cell_type": "markdown",
   "metadata": {},
   "source": [
    "### 4. Tool to answer question from the given problem"
   ]
  },
  {
   "cell_type": "code",
   "execution_count": 16,
   "metadata": {},
   "outputs": [
    {
     "name": "stdout",
     "output_type": "stream",
     "text": [
      "[('article_3###0', \"4. Understanding Your W-2: A Guide for ADP Payroll Customers \\n\\nIf you are an employee whose payroll is managed by ADP, you will receive a W-2 form at the end of each fiscal year. This form summarizes your earnings and taxes paid throughout the year, and is necessary for filing your tax returns.\\n\\nTo help you understand the information displayed on your W-2 form, we've created this guide:\\n\\n1. Box 1 - Wages, tips, and other compensation: This box includes all taxable income earned during the year, including bonuses, overtime pay, and vacation pay.\\n\\n2. Box 2 - Federal income tax withheld: This box shows the total amount of federal income tax withheld from your paycheck throughout the year. This amount is based on your W-4 form, which you fill out when you are hired.\\n\\n3. Box 3 - Social Security wages: This box shows the total amount of wages that are subject to Social Security taxes. This includes all taxable income up to the Social Security wage base, which changes each year.\\n\\n4. Box 4 - Social Security tax withheld: This box displays the total amount of Social Security tax withheld from your paycheck during the year.\\n\\n5. Box 5 - Medicare wages and tips: This box displays the total amount of wages subject to Medicare taxes, which is all taxable income earned during the year.\\n\\n6. Box 6 - Medicare tax withheld: This box shows the total amount of Medicare tax withheld from your paycheck throughout the year.\\n\\n7. Box 12 - Other compensation: This box includes any other income earned that is not taxable, such as employer contributions to a 401(k) plan or the value of life insurance premiums.\\n\\nIt's important to review your W-2 form carefully to ensure that all information is correct. If you notice any discrepancies or errors, contact ADP immediately to request a correction.\\n\\nBy understanding the information displayed on your W-2 form, you can ensure that you are filing your taxes correctly and avoid any potential issues with the IRS. If you have any questions or concerns, don't hesitate to reach out to ADP's customer support team for assistance.\", 0.8460832053784798), ('article_0###1', '\\n\\nYear-to-Date Totals\\n\\nYour paycheck will include the year-to-date totals for your income, taxes, and contributions. This information will help you keep track of your earnings over the course of the year and prepare for tax season.\\n\\nIn conclusion, understanding your paycheck is important in managing your finances and planning for your future. If you have any questions about your paycheck or any other payroll-related issues, contact ADP customer support for assistance.', 0.7902469867020964)]\n",
      "Answer: As an employee whose payroll is managed by ADP, you will receive your W-2 form at the end of each fiscal year. This form summarizes your earnings and taxes paid throughout the year, and is necessary for filing your tax returns. If you have any questions or concerns about your W-2 form, you can contact ADP's customer support team for assistance.\n",
      "Sources: [article_3###0]\n",
      "---------------content-----------------\n",
      "\n",
      "    <<knowledge articles>>\n",
      "     \n",
      "        article:article_3###0\n",
      "        content: 4. Understanding Your W-2: A Guide for ADP Payroll Customers \n",
      "\n",
      "If you are an employee whose payroll is managed by ADP, you will receive a W-2 form at the end of each fiscal year. This form summarizes your earnings and taxes paid throughout the year, and is necessary for filing your tax returns.\n",
      "\n",
      "To help you understand the information displayed on your W-2 form, we've created this guide:\n",
      "\n",
      "1. Box 1 - Wages, tips, and other compensation: This box includes all taxable income earned during the year, including bonuses, overtime pay, and vacation pay.\n",
      "\n",
      "2. Box 2 - Federal income tax withheld: This box shows the total amount of federal income tax withheld from your paycheck throughout the year. This amount is based on your W-4 form, which you fill out when you are hired.\n",
      "\n",
      "3. Box 3 - Social Security wages: This box shows the total amount of wages that are subject to Social Security taxes. This includes all taxable income up to the Social Security wage base, which changes each year.\n",
      "\n",
      "4. Box 4 - Social Security tax withheld: This box displays the total amount of Social Security tax withheld from your paycheck during the year.\n",
      "\n",
      "5. Box 5 - Medicare wages and tips: This box displays the total amount of wages subject to Medicare taxes, which is all taxable income earned during the year.\n",
      "\n",
      "6. Box 6 - Medicare tax withheld: This box shows the total amount of Medicare tax withheld from your paycheck throughout the year.\n",
      "\n",
      "7. Box 12 - Other compensation: This box includes any other income earned that is not taxable, such as employer contributions to a 401(k) plan or the value of life insurance premiums.\n",
      "\n",
      "It's important to review your W-2 form carefully to ensure that all information is correct. If you notice any discrepancies or errors, contact ADP immediately to request a correction.\n",
      "\n",
      "By understanding the information displayed on your W-2 form, you can ensure that you are filing your taxes correctly and avoid any potential issues with the IRS. If you have any questions or concerns, don't hesitate to reach out to ADP's customer support team for assistance.\n",
      "     \n",
      "        article:article_0###1\n",
      "        content: \n",
      "\n",
      "Year-to-Date Totals\n",
      "\n",
      "Your paycheck will include the year-to-date totals for your income, taxes, and contributions. This information will help you keep track of your earnings over the course of the year and prepare for tax season.\n",
      "\n",
      "In conclusion, understanding your paycheck is important in managing your finances and planning for your future. If you have any questions about your paycheck or any other payroll-related issues, contact ADP customer support for assistance.\n",
      "    \n",
      "    <<knowledge articles>>\n",
      "    \n"
     ]
    }
   ],
   "source": [
    "openai.api_version = \"2023-03-15-preview\"\n",
    "\n",
    "def answer_assist(problem, search_query):\n",
    "\n",
    "    articles, contents = find_article(search_query,2)\n",
    "    articles_contents=\"\"\n",
    "    for article, content in zip(articles, contents):\n",
    "        articles_contents += f\"\"\" \n",
    "        article:{article}\n",
    "        content: {content}\n",
    "    \"\"\"\n",
    "    articles_contents = f\"\"\"\n",
    "    <<knowledge articles>>\n",
    "    {articles_contents}\n",
    "    <<knowledge articles>>\n",
    "    \"\"\"\n",
    "    user_message =f\"\"\" \n",
    "    problem:{problem}\n",
    "    {articles_contents}\n",
    "    Your response:\n",
    "\"\"\"\n",
    "    system_message = \"\"\"\n",
    "    You are a senior customer support agent for ADP company. You listen to the conversation between an agent and a customer and assist the agent to resolve the problem.\n",
    "    Given the question or problem statement and the knowledge article you have, give the answer.\n",
    "    Rely solely to the guidance from the article.If the knowlege article is not relavant to the question, say you don't know. Do not make up your answer. \n",
    "    Cite the name of the knowledge article as source for your answer.\n",
    "    Format:\n",
    "    Answer: your answer to the question\n",
    "    Sources: [source1, source2]\n",
    "    \"\"\"\n",
    "\n",
    "    response = openai.ChatCompletion.create(\n",
    "        engine=\"gpt-35-turbo\", # engine = \"deployment_name\".\n",
    "        messages=[\n",
    "            {\"role\": \"system\", \"content\": system_message},\n",
    "            {\"role\": \"user\", \"content\":user_message },\n",
    "        ]\n",
    "    )\n",
    "    return response['choices'][0]['message']['content'], articles_contents\n",
    "\n",
    "question = \"When do I receive my W2 form?\"\n",
    "answer, articles_contents = answer_assist(question,question)\n",
    "print(answer)\n",
    "print(\"---------------content-----------------\")\n",
    "\n",
    "print(articles_contents)"
   ]
  },
  {
   "cell_type": "code",
   "execution_count": null,
   "metadata": {},
   "outputs": [],
   "source": []
  },
  {
   "attachments": {},
   "cell_type": "markdown",
   "metadata": {},
   "source": [
    "### 5. Put tools all together"
   ]
  },
  {
   "cell_type": "code",
   "execution_count": 17,
   "metadata": {},
   "outputs": [],
   "source": [
    "def recommend(conversation):\n",
    "    i=0\n",
    "    while (i<5): #handle wrong format output\n",
    "        problems=extract_problems(conversation)\n",
    "        try:\n",
    "            problems=json.loads(problems)\n",
    "            print(\"problems\", problems)\n",
    "            for problem in problems:\n",
    "                answer, articles_contents = answer_assist(problem['problem'],problem['search_query'])\n",
    "                print(answer)\n",
    "                print(\"---------------content-----------------\")\n",
    "\n",
    "                print(articles_contents)\n",
    "            break\n",
    "\n",
    "        except Exception as e:\n",
    "            print(e)\n",
    "            print(\"problem parsing json, problems string is \", problems)\n",
    "            i+=1\n",
    "\n",
    "        \n",
    "\n"
   ]
  },
  {
   "attachments": {},
   "cell_type": "markdown",
   "metadata": {},
   "source": [
    "### One time conversation "
   ]
  },
  {
   "cell_type": "code",
   "execution_count": 21,
   "metadata": {},
   "outputs": [
    {
     "name": "stdout",
     "output_type": "stream",
     "text": [
      "Conversation Support Agent: Thank you for calling ADP support. My name is Sarah. How can I assist you today?\n",
      "\n",
      "Employee: Hi, yes. I have a question about my payroll. I noticed that my paycheck amount seems to be incorrect.\n",
      "\n",
      "Support Agent: I apologize for the inconvenience. I'll do my best to help you out. Could you please provide me with your employee ID so I can access your account?\n",
      "\n",
      "Employee: Sure, my employee ID is 6789.\n",
      "\n",
      "Support Agent: Thank you. Let me just pull up your information in our system. Please bear with me for a moment.\n",
      "\n",
      "(Employee waits patiently)\n",
      "\n",
      "Support Agent: Okay, I have your payroll records in front of me. Can you tell me which pay period you are referring to and what the discrepancy is?\n",
      "\n",
      "Employee: It's for the last pay period. The amount seems to be lower than what it should be based on my hours worked and the agreed-upon rate.\n",
      "\n",
      "Support Agent: I understand your concern. Let me investigate this further for you. While I'm doing that, may I ask if you made any changes to your tax withholding or any deductions recently?\n",
      "\n",
      "Employee: No, I haven't made any changes to that recently.\n",
      "\n",
      "Support Agent: Good to know. I'm going to review your pay stub and check the calculations and applicable deductions to see if there's any error.\n",
      "\n",
      "(Employee waits patiently)\n",
      "\n",
      "Support Agent: Thank you for your patience. I've reviewed your pay calculations, and it seems like there was an error in your overtime calculation. Your overtime hours were not properly accounted for in the previous pay period, resulting in a lower paycheck. I apologize for this mistake.\n",
      "\n",
      "Employee: Thank you for identifying the issue. How will this be rectified?\n",
      "\n",
      "Support Agent: To resolve this, I will submit a request to the Payroll department to make the necessary adjustments to your current pay. You should see the correct amount in your next paycheck.\n",
      "\n",
      "Employee: Alright. Thank you for your assistance.\n",
      "\n",
      "Support Agent: You're welcome! If you have any further questions or need any additional support, please don't hesitate to reach out. Is there anything else I can help you with today?\n",
      "\n",
      "Employee: No, that's all for now. Thank you for your help.\n",
      "\n",
      "Support Agent: You're welcome! Have a great day ahead.\n",
      "problems {'problems': [{'problem': 'Paycheck amount seems to be incorrect', 'search_query': 'How to investigate incorrect paycheck amounts'}, {'problem': 'Error in overtime calculation resulting in lower paycheck', 'search_query': 'How to correct overtime calculation errors in payroll'}]}\n",
      "string indices must be integers\n",
      "problem parsing json, problems string is  {'problems': [{'problem': 'Paycheck amount seems to be incorrect', 'search_query': 'How to investigate incorrect paycheck amounts'}, {'problem': 'Error in overtime calculation resulting in lower paycheck', 'search_query': 'How to correct overtime calculation errors in payroll'}]}\n",
      "problems {'problem': \"The employee's paycheck amount seems to be incorrect\", 'search_query': 'How to resolve incorrect paycheck calculation'}\n",
      "string indices must be integers\n",
      "problem parsing json, problems string is  {'problem': \"The employee's paycheck amount seems to be incorrect\", 'search_query': 'How to resolve incorrect paycheck calculation'}\n",
      "problems {'problem': 'Employee is experiencing a discrepancy in their payroll amount', 'search_query': 'how to handle payroll discrepancy'}\n",
      "string indices must be integers\n",
      "problem parsing json, problems string is  {'problem': 'Employee is experiencing a discrepancy in their payroll amount', 'search_query': 'how to handle payroll discrepancy'}\n",
      "Extra data: line 3 column 1 (char 149)\n",
      "problem parsing json, problems string is  {\"problem\": \"Employee is experiencing a discrepancy in their paycheck amount for the last pay period.\", \"search_query\": \"paycheck discrepancy ADP\"}\n",
      "\n",
      "{\"problem\": \"Support agent needs to investigate and rectify the error in overtime calculation for the employee's pay.\", \"search_query\": \"overtime calculation error ADP\"}\n",
      "problems {'problems': [{'problem': \"Employee's paycheck amount is incorrect\", 'search_query': 'How to resolve incorrect paycheck calculation'}, {'problem': 'Error in overtime calculation leading to lower paycheck', 'search_query': 'How to correct overtime calculation error in payroll'}]}\n",
      "string indices must be integers\n",
      "problem parsing json, problems string is  {'problems': [{'problem': \"Employee's paycheck amount is incorrect\", 'search_query': 'How to resolve incorrect paycheck calculation'}, {'problem': 'Error in overtime calculation leading to lower paycheck', 'search_query': 'How to correct overtime calculation error in payroll'}]}\n"
     ]
    }
   ],
   "source": [
    "conversation =generate_conversation()['choices'][0]['message']['content']\n",
    "print(f\"Conversation {conversation}\")\n",
    "recommend(conversation)        \n",
    "\n",
    "    "
   ]
  },
  {
   "attachments": {},
   "cell_type": "markdown",
   "metadata": {},
   "source": [
    "### Simulate a running conversation "
   ]
  },
  {
   "cell_type": "code",
   "execution_count": 22,
   "metadata": {},
   "outputs": [
    {
     "name": "stdout",
     "output_type": "stream",
     "text": [
      "Support Agent: Thank you for calling ADP support. My name is Sarah. How can I assist you todayEmployee: Hi Sarah, my name is John. I'm having trouble with my paycheck deductions. I noticed that I'm being deducted more than usual for taxes this month. Can you help me understand whySupport Agent: Of course, John. I'm sorry to hear about the issue you're facing. Let me look into your account to see what might be causing the increased tax deductions. Can you please provide me with your employee ID or any other identifying informationstarting recommendation\n",
      "conversation:  Support Agent: Thank you for calling ADP support. My name is Sarah. How can I assist you today?\n",
      "\n",
      "Employee: Hi Sarah, my name is John. I'm having trouble with my paycheck deductions. I noticed that I'm being deducted more than usual for taxes this month. Can you help me understand why?\n",
      "\n",
      "Support Agent: Of course, John. I'm sorry to hear about the issue you're facing. Let me look into your account to see what might be causing the increased tax deductions. Can you please provide me with your employee ID or any other identifying information?\n",
      "\n",
      "\n",
      "problems {'problems': [{'problem': 'Employee is being deducted more than usual for taxes this month and needs help understanding why', 'search_query': 'paycheck deductions, increased tax deductions'}, {'problem': \"Support agent needs to access the employee's account to investigate the cause of the increased tax deductions\", 'search_query': 'accessing employee account, investigate increased tax deductions'}]}\n",
      "string indices must be integers\n",
      "problem parsing json, problems string is  {'problems': [{'problem': 'Employee is being deducted more than usual for taxes this month and needs help understanding why', 'search_query': 'paycheck deductions, increased tax deductions'}, {'problem': \"Support agent needs to access the employee's account to investigate the cause of the increased tax deductions\", 'search_query': 'accessing employee account, investigate increased tax deductions'}]}\n",
      "problems {'problem': 'Employee wants to understand why there is an increase in tax deductions.', 'search_query': 'reasons for increase in tax deductions'}\n",
      "string indices must be integers\n",
      "problem parsing json, problems string is  {'problem': 'Employee wants to understand why there is an increase in tax deductions.', 'search_query': 'reasons for increase in tax deductions'}\n",
      "problems {'problem': 'Employee is experiencing increased tax deductions', 'search_query': 'reasons for increased tax deductions in ADP payroll system'}\n",
      "string indices must be integers\n",
      "problem parsing json, problems string is  {'problem': 'Employee is experiencing increased tax deductions', 'search_query': 'reasons for increased tax deductions in ADP payroll system'}\n",
      "problems {'problems': [{'problem': 'Employee is being deducted more than usual for taxes', 'search_query': 'tax deductions increase reason ADP'}, {'problem': 'Agent needs to identify the employee to investigate the issue', 'search_query': 'employee identification in ADP account'}]}\n",
      "string indices must be integers\n",
      "problem parsing json, problems string is  {'problems': [{'problem': 'Employee is being deducted more than usual for taxes', 'search_query': 'tax deductions increase reason ADP'}, {'problem': 'Agent needs to identify the employee to investigate the issue', 'search_query': 'employee identification in ADP account'}]}\n",
      "problems {'problems': [{'problem': 'Employee is experiencing increased tax deductions on their paycheck.', 'search_query': 'reasons for increased tax deductions on employee paycheck'}]}\n",
      "string indices must be integers\n",
      "problem parsing json, problems string is  {'problems': [{'problem': 'Employee is experiencing increased tax deductions on their paycheck.', 'search_query': 'reasons for increased tax deductions on employee paycheck'}]}\n",
      "ending recommendation\n",
      "Employee: Sure, my employee ID is 123456Support Agent: Thank you, John. Give me a moment while I access your account. (The support agent searches for the employee's details in the system) I see that your federal tax withholding has increased this month. Typically, this can be due to changes in tax rates or changes to your incomeEmployee: I haven't made any changes to my income, and the tax rates should have remained the same. Is there any way to confirm thisstarting recommendation\n",
      "conversation:  Support Agent: Thank you for calling ADP support. My name is Sarah. How can I assist you today?\n",
      "\n",
      "Employee: Hi Sarah, my name is John. I'm having trouble with my paycheck deductions. I noticed that I'm being deducted more than usual for taxes this month. Can you help me understand why?\n",
      "\n",
      "Support Agent: Of course, John. I'm sorry to hear about the issue you're facing. Let me look into your account to see what might be causing the increased tax deductions. Can you please provide me with your employee ID or any other identifying information?\n",
      "\n",
      "Employee: Sure, my employee ID is 123456.\n",
      "\n",
      "Support Agent: Thank you, John. Give me a moment while I access your account. (The support agent searches for the employee's details in the system) I see that your federal tax withholding has increased this month. Typically, this can be due to changes in tax rates or changes to your income.\n",
      "\n",
      "Employee: I haven't made any changes to my income, and the tax rates should have remained the same. Is there any way to confirm this?\n",
      "\n",
      "\n",
      "problems {'problem': 'Employee is having trouble with increased tax deductions', 'search_query': 'how to determine reason for increased tax deductions'}\n",
      "string indices must be integers\n",
      "problem parsing json, problems string is  {'problem': 'Employee is having trouble with increased tax deductions', 'search_query': 'how to determine reason for increased tax deductions'}\n",
      "problems {'problems': [{'problem': 'Employee is experiencing an increase in tax deductions', 'search_query': 'reasons for increase in federal tax withholding'}, {'problem': 'Employee wants to confirm if there have been any changes to tax rates or income', 'search_query': 'how to confirm changes in tax rates or income'}]}\n",
      "string indices must be integers\n",
      "problem parsing json, problems string is  {'problems': [{'problem': 'Employee is experiencing an increase in tax deductions', 'search_query': 'reasons for increase in federal tax withholding'}, {'problem': 'Employee wants to confirm if there have been any changes to tax rates or income', 'search_query': 'how to confirm changes in tax rates or income'}]}\n",
      "problems {'problems': [{'summary': 'Employee experiencing increased tax deductions', 'search_query': 'reasons for increased tax deductions in ADP payroll system'}, {'summary': 'Employee wants to confirm if tax rates have changed', 'search_query': 'how to confirm tax rate changes in ADP payroll system'}]}\n",
      "string indices must be integers\n",
      "problem parsing json, problems string is  {'problems': [{'summary': 'Employee experiencing increased tax deductions', 'search_query': 'reasons for increased tax deductions in ADP payroll system'}, {'summary': 'Employee wants to confirm if tax rates have changed', 'search_query': 'how to confirm tax rate changes in ADP payroll system'}]}\n",
      "problems {'problem': 'employee is being deducted more than usual for taxes', 'search_query': 'factors affecting federal tax withholding'}\n",
      "string indices must be integers\n",
      "problem parsing json, problems string is  {'problem': 'employee is being deducted more than usual for taxes', 'search_query': 'factors affecting federal tax withholding'}\n",
      "problems {'problem': 'Employee wants to understand why there has been an increase in tax deductions on their paycheck', 'search_query': 'reasons for increase in federal tax withholding on paycheck'}\n",
      "string indices must be integers\n",
      "problem parsing json, problems string is  {'problem': 'Employee wants to understand why there has been an increase in tax deductions on their paycheck', 'search_query': 'reasons for increase in federal tax withholding on paycheck'}\n",
      "ending recommendation\n",
      "Support Agent: I understand your concern, John. Let me double-check this information for you. (The support agent uses a tax rate lookup tool to verify the current tax rates) According to the latest tax rates, they haven't changed. However, there could be other factors affecting your tax withholding. Let me investigate this furtherEmployee: Thank you, Sarah. I appreciate your helpSupport Agent: You're welcome, John. While I investigate, I would like to let you know that I'll be putting you on hold for a few minutes. I'll be using our internal resources and tools to gather more information and resolve this issue for youstarting recommendation\n",
      "conversation:  Support Agent: Thank you for calling ADP support. My name is Sarah. How can I assist you today?\n",
      "\n",
      "Employee: Hi Sarah, my name is John. I'm having trouble with my paycheck deductions. I noticed that I'm being deducted more than usual for taxes this month. Can you help me understand why?\n",
      "\n",
      "Support Agent: Of course, John. I'm sorry to hear about the issue you're facing. Let me look into your account to see what might be causing the increased tax deductions. Can you please provide me with your employee ID or any other identifying information?\n",
      "\n",
      "Employee: Sure, my employee ID is 123456.\n",
      "\n",
      "Support Agent: Thank you, John. Give me a moment while I access your account. (The support agent searches for the employee's details in the system) I see that your federal tax withholding has increased this month. Typically, this can be due to changes in tax rates or changes to your income.\n",
      "\n",
      "Employee: I haven't made any changes to my income, and the tax rates should have remained the same. Is there any way to confirm this?\n",
      "\n",
      "Support Agent: I understand your concern, John. Let me double-check this information for you. (The support agent uses a tax rate lookup tool to verify the current tax rates) According to the latest tax rates, they haven't changed. However, there could be other factors affecting your tax withholding. Let me investigate this further.\n",
      "\n",
      "Employee: Thank you, Sarah. I appreciate your help.\n",
      "\n",
      "Support Agent: You're welcome, John. While I investigate, I would like to let you know that I'll be putting you on hold for a few minutes. I'll be using our internal resources and tools to gather more information and resolve this issue for you.\n",
      "\n",
      "\n",
      "problems {'problem': 'Employee is facing issues with increased tax deductions', 'search_query': 'reasons for increased tax deductions in ADP payroll system'}\n",
      "string indices must be integers\n",
      "problem parsing json, problems string is  {'problem': 'Employee is facing issues with increased tax deductions', 'search_query': 'reasons for increased tax deductions in ADP payroll system'}\n",
      "problems {'problem': 'Employee is experiencing increased tax deductions and wants to understand why', 'search_query': 'reasons for increased tax deductions in paycheck'}\n",
      "string indices must be integers\n",
      "problem parsing json, problems string is  {'problem': 'Employee is experiencing increased tax deductions and wants to understand why', 'search_query': 'reasons for increased tax deductions in paycheck'}\n",
      "problems {'problem': 'Employee is being deducted more than usual for taxes this month', 'search_query': 'reasons for increased tax deductions in ADP payroll system'}\n",
      "string indices must be integers\n",
      "problem parsing json, problems string is  {'problem': 'Employee is being deducted more than usual for taxes this month', 'search_query': 'reasons for increased tax deductions in ADP payroll system'}\n",
      "problems {'problem': 'Employee is experiencing increased tax deductions and wants to understand why', 'search_query': 'reasons for increased tax deductions'}\n",
      "string indices must be integers\n",
      "problem parsing json, problems string is  {'problem': 'Employee is experiencing increased tax deductions and wants to understand why', 'search_query': 'reasons for increased tax deductions'}\n",
      "problems {'problems': [{'problem': 'Employee is being deducted more than usual for taxes', 'search_query': 'tax deduction troubleshooting'}, {'problem': 'Employee wants to confirm if there have been any changes to tax rates', 'search_query': 'current tax rates verification'}, {'problem': 'Support agent needs to investigate factors affecting tax withholding', 'search_query': 'factors affecting tax withholding investigation'}]}\n",
      "string indices must be integers\n",
      "problem parsing json, problems string is  {'problems': [{'problem': 'Employee is being deducted more than usual for taxes', 'search_query': 'tax deduction troubleshooting'}, {'problem': 'Employee wants to confirm if there have been any changes to tax rates', 'search_query': 'current tax rates verification'}, {'problem': 'Support agent needs to investigate factors affecting tax withholding', 'search_query': 'factors affecting tax withholding investigation'}]}\n",
      "ending recommendation\n",
      "(After a few minutesSupport Agent: Thank you for waiting, John. I've done some research, and it appears that you had a change in your filing status from single to married. This change in your marital status can affect your federal tax withholdings. Can you confirm if this change was intentionalEmployee: Oh, I didn't realize that my filing status had changed. Yes, I recently got married, so that would explain the increase in tax deductions. Thank you for finding that out, Sarahstarting recommendation\n",
      "conversation:  Support Agent: Thank you for calling ADP support. My name is Sarah. How can I assist you today?\n",
      "\n",
      "Employee: Hi Sarah, my name is John. I'm having trouble with my paycheck deductions. I noticed that I'm being deducted more than usual for taxes this month. Can you help me understand why?\n",
      "\n",
      "Support Agent: Of course, John. I'm sorry to hear about the issue you're facing. Let me look into your account to see what might be causing the increased tax deductions. Can you please provide me with your employee ID or any other identifying information?\n",
      "\n",
      "Employee: Sure, my employee ID is 123456.\n",
      "\n",
      "Support Agent: Thank you, John. Give me a moment while I access your account. (The support agent searches for the employee's details in the system) I see that your federal tax withholding has increased this month. Typically, this can be due to changes in tax rates or changes to your income.\n",
      "\n",
      "Employee: I haven't made any changes to my income, and the tax rates should have remained the same. Is there any way to confirm this?\n",
      "\n",
      "Support Agent: I understand your concern, John. Let me double-check this information for you. (The support agent uses a tax rate lookup tool to verify the current tax rates) According to the latest tax rates, they haven't changed. However, there could be other factors affecting your tax withholding. Let me investigate this further.\n",
      "\n",
      "Employee: Thank you, Sarah. I appreciate your help.\n",
      "\n",
      "Support Agent: You're welcome, John. While I investigate, I would like to let you know that I'll be putting you on hold for a few minutes. I'll be using our internal resources and tools to gather more information and resolve this issue for you.\n",
      "\n",
      "(After a few minutes)\n",
      "\n",
      "Support Agent: Thank you for waiting, John. I've done some research, and it appears that you had a change in your filing status from single to married. This change in your marital status can affect your federal tax withholdings. Can you confirm if this change was intentional?\n",
      "\n",
      "Employee: Oh, I didn't realize that my filing status had changed. Yes, I recently got married, so that would explain the increase in tax deductions. Thank you for finding that out, Sarah.\n",
      "\n",
      "\n",
      "problems {'problems': [{'problem': 'Employee is being deducted more than usual for taxes this month', 'search_query': 'reasons for increased tax deductions in ADP'}, {'problem': 'Employee wants to confirm if there have been any changes in tax rates', 'search_query': 'current tax rates in ADP'}, {'problem': 'Employee wants to understand other factors affecting tax withholding', 'search_query': 'factors affecting tax withholding in ADP'}, {'problem': 'Employee wants to know if there have been any changes in filing status', 'search_query': 'changes in filing status affecting federal tax withholdings in ADP'}]}\n",
      "string indices must be integers\n",
      "problem parsing json, problems string is  {'problems': [{'problem': 'Employee is being deducted more than usual for taxes this month', 'search_query': 'reasons for increased tax deductions in ADP'}, {'problem': 'Employee wants to confirm if there have been any changes in tax rates', 'search_query': 'current tax rates in ADP'}, {'problem': 'Employee wants to understand other factors affecting tax withholding', 'search_query': 'factors affecting tax withholding in ADP'}, {'problem': 'Employee wants to know if there have been any changes in filing status', 'search_query': 'changes in filing status affecting federal tax withholdings in ADP'}]}\n",
      "problems {'problems': [{'problem': 'Employee is being deducted more than usual for taxes', 'search_query': 'reasons for increased tax deductions in ADP payroll system'}, {'problem': 'Employee wants to confirm if tax rates have changed', 'search_query': 'how to verify current tax rates in ADP payroll system'}, {'problem': 'Employee wants to understand why filing status change affected tax deductions', 'search_query': 'how does change in filing status affect tax withholdings in ADP payroll system'}]}\n",
      "string indices must be integers\n",
      "problem parsing json, problems string is  {'problems': [{'problem': 'Employee is being deducted more than usual for taxes', 'search_query': 'reasons for increased tax deductions in ADP payroll system'}, {'problem': 'Employee wants to confirm if tax rates have changed', 'search_query': 'how to verify current tax rates in ADP payroll system'}, {'problem': 'Employee wants to understand why filing status change affected tax deductions', 'search_query': 'how does change in filing status affect tax withholdings in ADP payroll system'}]}\n",
      "problems {'problem': 'Employee is experiencing increased tax deductions and wants to understand why', 'search_query': 'reasons for increased tax deductions in ADP payroll system'}\n",
      "string indices must be integers\n",
      "problem parsing json, problems string is  {'problem': 'Employee is experiencing increased tax deductions and wants to understand why', 'search_query': 'reasons for increased tax deductions in ADP payroll system'}\n",
      "Extra data: line 2 column 1 (char 139)\n",
      "problem parsing json, problems string is  {\"problem\":\"Employee is being deducted more for taxes than usual\", \"search_query\":\"reasons for increased tax deductions on paycheck ADP\"} \n",
      "{\"problem\":\"Employee wants to confirm if tax rates have changed\", \"search_query\":\"latest tax rates for federal taxes ADP\"} \n",
      "{\"problem\":\"Employee wants to understand why there was a change in filing status\", \"search_query\":\"effect of change in filing status on federal tax withholding ADP\"}\n"
     ]
    },
    {
     "ename": "KeyboardInterrupt",
     "evalue": "",
     "output_type": "error",
     "traceback": [
      "\u001b[0;31m---------------------------------------------------------------------------\u001b[0m",
      "\u001b[0;31mKeyboardInterrupt\u001b[0m                         Traceback (most recent call last)",
      "\u001b[1;32m/home/kapildhanger/OpenAIWorkshop/scenarios/incubations/agent_assistance/agent_assistant_v3.ipynb Cell 34\u001b[0m line \u001b[0;36m2\n\u001b[1;32m     <a href='vscode-notebook-cell://wsl%2Bubuntu-20.04/home/kapildhanger/OpenAIWorkshop/scenarios/incubations/agent_assistance/agent_assistant_v3.ipynb#X45sdnNjb2RlLXJlbW90ZQ%3D%3D?line=22'>23</a>\u001b[0m                 \u001b[39mprint\u001b[39m(\u001b[39m\"\u001b[39m\u001b[39mending recommendation\u001b[39m\u001b[39m\"\u001b[39m)\n\u001b[1;32m     <a href='vscode-notebook-cell://wsl%2Bubuntu-20.04/home/kapildhanger/OpenAIWorkshop/scenarios/incubations/agent_assistance/agent_assistant_v3.ipynb#X45sdnNjb2RlLXJlbW90ZQ%3D%3D?line=23'>24</a>\u001b[0m                 old_conversation_counter\u001b[39m=\u001b[39mconversation_counter\n\u001b[0;32m---> <a href='vscode-notebook-cell://wsl%2Bubuntu-20.04/home/kapildhanger/OpenAIWorkshop/scenarios/incubations/agent_assistance/agent_assistant_v3.ipynb#X45sdnNjb2RlLXJlbW90ZQ%3D%3D?line=28'>29</a>\u001b[0m stream_conversation(conversation_buffer,conversation_pause_duration)\n",
      "\u001b[1;32m/home/kapildhanger/OpenAIWorkshop/scenarios/incubations/agent_assistance/agent_assistant_v3.ipynb Cell 34\u001b[0m line \u001b[0;36m2\n\u001b[1;32m     <a href='vscode-notebook-cell://wsl%2Bubuntu-20.04/home/kapildhanger/OpenAIWorkshop/scenarios/incubations/agent_assistance/agent_assistant_v3.ipynb#X45sdnNjb2RlLXJlbW90ZQ%3D%3D?line=19'>20</a>\u001b[0m \u001b[39mprint\u001b[39m(\u001b[39m\"\u001b[39m\u001b[39mstarting recommendation\u001b[39m\u001b[39m\"\u001b[39m)\n\u001b[1;32m     <a href='vscode-notebook-cell://wsl%2Bubuntu-20.04/home/kapildhanger/OpenAIWorkshop/scenarios/incubations/agent_assistance/agent_assistant_v3.ipynb#X45sdnNjb2RlLXJlbW90ZQ%3D%3D?line=20'>21</a>\u001b[0m \u001b[39mprint\u001b[39m(\u001b[39m\"\u001b[39m\u001b[39mconversation: \u001b[39m\u001b[39m\"\u001b[39m, conversation)\n\u001b[0;32m---> <a href='vscode-notebook-cell://wsl%2Bubuntu-20.04/home/kapildhanger/OpenAIWorkshop/scenarios/incubations/agent_assistance/agent_assistant_v3.ipynb#X45sdnNjb2RlLXJlbW90ZQ%3D%3D?line=21'>22</a>\u001b[0m recommend(conversation)\n\u001b[1;32m     <a href='vscode-notebook-cell://wsl%2Bubuntu-20.04/home/kapildhanger/OpenAIWorkshop/scenarios/incubations/agent_assistance/agent_assistant_v3.ipynb#X45sdnNjb2RlLXJlbW90ZQ%3D%3D?line=22'>23</a>\u001b[0m \u001b[39mprint\u001b[39m(\u001b[39m\"\u001b[39m\u001b[39mending recommendation\u001b[39m\u001b[39m\"\u001b[39m)\n\u001b[1;32m     <a href='vscode-notebook-cell://wsl%2Bubuntu-20.04/home/kapildhanger/OpenAIWorkshop/scenarios/incubations/agent_assistance/agent_assistant_v3.ipynb#X45sdnNjb2RlLXJlbW90ZQ%3D%3D?line=23'>24</a>\u001b[0m old_conversation_counter\u001b[39m=\u001b[39mconversation_counter\n",
      "\u001b[1;32m/home/kapildhanger/OpenAIWorkshop/scenarios/incubations/agent_assistance/agent_assistant_v3.ipynb Cell 34\u001b[0m line \u001b[0;36m4\n\u001b[1;32m      <a href='vscode-notebook-cell://wsl%2Bubuntu-20.04/home/kapildhanger/OpenAIWorkshop/scenarios/incubations/agent_assistance/agent_assistant_v3.ipynb#X45sdnNjb2RlLXJlbW90ZQ%3D%3D?line=1'>2</a>\u001b[0m i\u001b[39m=\u001b[39m\u001b[39m0\u001b[39m\n\u001b[1;32m      <a href='vscode-notebook-cell://wsl%2Bubuntu-20.04/home/kapildhanger/OpenAIWorkshop/scenarios/incubations/agent_assistance/agent_assistant_v3.ipynb#X45sdnNjb2RlLXJlbW90ZQ%3D%3D?line=2'>3</a>\u001b[0m \u001b[39mwhile\u001b[39;00m (i\u001b[39m<\u001b[39m\u001b[39m5\u001b[39m): \u001b[39m#handle wrong format output\u001b[39;00m\n\u001b[0;32m----> <a href='vscode-notebook-cell://wsl%2Bubuntu-20.04/home/kapildhanger/OpenAIWorkshop/scenarios/incubations/agent_assistance/agent_assistant_v3.ipynb#X45sdnNjb2RlLXJlbW90ZQ%3D%3D?line=3'>4</a>\u001b[0m     problems\u001b[39m=\u001b[39mextract_problems(conversation)\n\u001b[1;32m      <a href='vscode-notebook-cell://wsl%2Bubuntu-20.04/home/kapildhanger/OpenAIWorkshop/scenarios/incubations/agent_assistance/agent_assistant_v3.ipynb#X45sdnNjb2RlLXJlbW90ZQ%3D%3D?line=4'>5</a>\u001b[0m     \u001b[39mtry\u001b[39;00m:\n\u001b[1;32m      <a href='vscode-notebook-cell://wsl%2Bubuntu-20.04/home/kapildhanger/OpenAIWorkshop/scenarios/incubations/agent_assistance/agent_assistant_v3.ipynb#X45sdnNjb2RlLXJlbW90ZQ%3D%3D?line=5'>6</a>\u001b[0m         problems\u001b[39m=\u001b[39mjson\u001b[39m.\u001b[39mloads(problems)\n",
      "\u001b[1;32m/home/kapildhanger/OpenAIWorkshop/scenarios/incubations/agent_assistance/agent_assistant_v3.ipynb Cell 34\u001b[0m line \u001b[0;36m2\n\u001b[1;32m      <a href='vscode-notebook-cell://wsl%2Bubuntu-20.04/home/kapildhanger/OpenAIWorkshop/scenarios/incubations/agent_assistance/agent_assistant_v3.ipynb#X45sdnNjb2RlLXJlbW90ZQ%3D%3D?line=4'>5</a>\u001b[0m     user_message \u001b[39m=\u001b[39m\u001b[39mf\u001b[39m\u001b[39m\"\"\"\u001b[39m\u001b[39m \u001b[39m\n\u001b[1;32m      <a href='vscode-notebook-cell://wsl%2Bubuntu-20.04/home/kapildhanger/OpenAIWorkshop/scenarios/incubations/agent_assistance/agent_assistant_v3.ipynb#X45sdnNjb2RlLXJlbW90ZQ%3D%3D?line=5'>6</a>\u001b[0m \u001b[39m    Follow this on going conversation below and extract problems that each party may need help with and formulate the search query to the knowledge base search tool.\u001b[39m\n\u001b[1;32m      <a href='vscode-notebook-cell://wsl%2Bubuntu-20.04/home/kapildhanger/OpenAIWorkshop/scenarios/incubations/agent_assistance/agent_assistant_v3.ipynb#X45sdnNjb2RlLXJlbW90ZQ%3D%3D?line=6'>7</a>\u001b[0m \u001b[39m    <<conversattion>>\u001b[39m\n\u001b[0;32m   (...)\u001b[0m\n\u001b[1;32m     <a href='vscode-notebook-cell://wsl%2Bubuntu-20.04/home/kapildhanger/OpenAIWorkshop/scenarios/incubations/agent_assistance/agent_assistant_v3.ipynb#X45sdnNjb2RlLXJlbW90ZQ%3D%3D?line=13'>14</a>\u001b[0m \u001b[39m \u001b[39m\n\u001b[1;32m     <a href='vscode-notebook-cell://wsl%2Bubuntu-20.04/home/kapildhanger/OpenAIWorkshop/scenarios/incubations/agent_assistance/agent_assistant_v3.ipynb#X45sdnNjb2RlLXJlbW90ZQ%3D%3D?line=14'>15</a>\u001b[0m \u001b[39m\"\"\"\u001b[39m\n\u001b[1;32m     <a href='vscode-notebook-cell://wsl%2Bubuntu-20.04/home/kapildhanger/OpenAIWorkshop/scenarios/incubations/agent_assistance/agent_assistant_v3.ipynb#X45sdnNjb2RlLXJlbW90ZQ%3D%3D?line=15'>16</a>\u001b[0m     system_message \u001b[39m=\u001b[39m \u001b[39m\"\"\"\u001b[39m\n\u001b[1;32m     <a href='vscode-notebook-cell://wsl%2Bubuntu-20.04/home/kapildhanger/OpenAIWorkshop/scenarios/incubations/agent_assistance/agent_assistant_v3.ipynb#X45sdnNjb2RlLXJlbW90ZQ%3D%3D?line=16'>17</a>\u001b[0m \u001b[39m    You are a senior customer support agent for ADP company. You listen to the conversation between an agent and a customer and assist the agent to resolve the problem.\u001b[39m\n\u001b[1;32m     <a href='vscode-notebook-cell://wsl%2Bubuntu-20.04/home/kapildhanger/OpenAIWorkshop/scenarios/incubations/agent_assistance/agent_assistant_v3.ipynb#X45sdnNjb2RlLXJlbW90ZQ%3D%3D?line=17'>18</a>\u001b[0m \u001b[39m    You are given access to knowledge base search tool to find knowledge needed to find answer to questions. \u001b[39m\n\u001b[1;32m     <a href='vscode-notebook-cell://wsl%2Bubuntu-20.04/home/kapildhanger/OpenAIWorkshop/scenarios/incubations/agent_assistance/agent_assistant_v3.ipynb#X45sdnNjb2RlLXJlbW90ZQ%3D%3D?line=18'>19</a>\u001b[0m \n\u001b[1;32m     <a href='vscode-notebook-cell://wsl%2Bubuntu-20.04/home/kapildhanger/OpenAIWorkshop/scenarios/incubations/agent_assistance/agent_assistant_v3.ipynb#X45sdnNjb2RlLXJlbW90ZQ%3D%3D?line=19'>20</a>\u001b[0m \u001b[39m    \u001b[39m\u001b[39m\"\"\"\u001b[39m\n\u001b[0;32m---> <a href='vscode-notebook-cell://wsl%2Bubuntu-20.04/home/kapildhanger/OpenAIWorkshop/scenarios/incubations/agent_assistance/agent_assistant_v3.ipynb#X45sdnNjb2RlLXJlbW90ZQ%3D%3D?line=21'>22</a>\u001b[0m     response \u001b[39m=\u001b[39m openai\u001b[39m.\u001b[39;49mChatCompletion\u001b[39m.\u001b[39;49mcreate(\n\u001b[1;32m     <a href='vscode-notebook-cell://wsl%2Bubuntu-20.04/home/kapildhanger/OpenAIWorkshop/scenarios/incubations/agent_assistance/agent_assistant_v3.ipynb#X45sdnNjb2RlLXJlbW90ZQ%3D%3D?line=22'>23</a>\u001b[0m         timeout\u001b[39m=\u001b[39;49m\u001b[39m100\u001b[39;49m,\n\u001b[1;32m     <a href='vscode-notebook-cell://wsl%2Bubuntu-20.04/home/kapildhanger/OpenAIWorkshop/scenarios/incubations/agent_assistance/agent_assistant_v3.ipynb#X45sdnNjb2RlLXJlbW90ZQ%3D%3D?line=23'>24</a>\u001b[0m         engine\u001b[39m=\u001b[39;49m\u001b[39m\"\u001b[39;49m\u001b[39mgpt-35-turbo\u001b[39;49m\u001b[39m\"\u001b[39;49m, \u001b[39m# engine = \"deployment_name\".\u001b[39;49;00m\n\u001b[1;32m     <a href='vscode-notebook-cell://wsl%2Bubuntu-20.04/home/kapildhanger/OpenAIWorkshop/scenarios/incubations/agent_assistance/agent_assistant_v3.ipynb#X45sdnNjb2RlLXJlbW90ZQ%3D%3D?line=24'>25</a>\u001b[0m         messages\u001b[39m=\u001b[39;49m[\n\u001b[1;32m     <a href='vscode-notebook-cell://wsl%2Bubuntu-20.04/home/kapildhanger/OpenAIWorkshop/scenarios/incubations/agent_assistance/agent_assistant_v3.ipynb#X45sdnNjb2RlLXJlbW90ZQ%3D%3D?line=25'>26</a>\u001b[0m             {\u001b[39m\"\u001b[39;49m\u001b[39mrole\u001b[39;49m\u001b[39m\"\u001b[39;49m: \u001b[39m\"\u001b[39;49m\u001b[39msystem\u001b[39;49m\u001b[39m\"\u001b[39;49m, \u001b[39m\"\u001b[39;49m\u001b[39mcontent\u001b[39;49m\u001b[39m\"\u001b[39;49m: system_message},\n\u001b[1;32m     <a href='vscode-notebook-cell://wsl%2Bubuntu-20.04/home/kapildhanger/OpenAIWorkshop/scenarios/incubations/agent_assistance/agent_assistant_v3.ipynb#X45sdnNjb2RlLXJlbW90ZQ%3D%3D?line=26'>27</a>\u001b[0m             {\u001b[39m\"\u001b[39;49m\u001b[39mrole\u001b[39;49m\u001b[39m\"\u001b[39;49m: \u001b[39m\"\u001b[39;49m\u001b[39muser\u001b[39;49m\u001b[39m\"\u001b[39;49m, \u001b[39m\"\u001b[39;49m\u001b[39mcontent\u001b[39;49m\u001b[39m\"\u001b[39;49m:user_message },\n\u001b[1;32m     <a href='vscode-notebook-cell://wsl%2Bubuntu-20.04/home/kapildhanger/OpenAIWorkshop/scenarios/incubations/agent_assistance/agent_assistant_v3.ipynb#X45sdnNjb2RlLXJlbW90ZQ%3D%3D?line=27'>28</a>\u001b[0m         ]\n\u001b[1;32m     <a href='vscode-notebook-cell://wsl%2Bubuntu-20.04/home/kapildhanger/OpenAIWorkshop/scenarios/incubations/agent_assistance/agent_assistant_v3.ipynb#X45sdnNjb2RlLXJlbW90ZQ%3D%3D?line=28'>29</a>\u001b[0m     )\n\u001b[1;32m     <a href='vscode-notebook-cell://wsl%2Bubuntu-20.04/home/kapildhanger/OpenAIWorkshop/scenarios/incubations/agent_assistance/agent_assistant_v3.ipynb#X45sdnNjb2RlLXJlbW90ZQ%3D%3D?line=29'>30</a>\u001b[0m     \u001b[39mreturn\u001b[39;00m response[\u001b[39m'\u001b[39m\u001b[39mchoices\u001b[39m\u001b[39m'\u001b[39m][\u001b[39m0\u001b[39m][\u001b[39m'\u001b[39m\u001b[39mmessage\u001b[39m\u001b[39m'\u001b[39m][\u001b[39m'\u001b[39m\u001b[39mcontent\u001b[39m\u001b[39m'\u001b[39m]\n",
      "File \u001b[0;32m~/OpenAIWorkshop/scenarios/incubations/copilot/copilot-venv/lib/python3.8/site-packages/openai/api_resources/chat_completion.py:25\u001b[0m, in \u001b[0;36mChatCompletion.create\u001b[0;34m(cls, *args, **kwargs)\u001b[0m\n\u001b[1;32m     23\u001b[0m \u001b[39mwhile\u001b[39;00m \u001b[39mTrue\u001b[39;00m:\n\u001b[1;32m     24\u001b[0m     \u001b[39mtry\u001b[39;00m:\n\u001b[0;32m---> 25\u001b[0m         \u001b[39mreturn\u001b[39;00m \u001b[39msuper\u001b[39;49m()\u001b[39m.\u001b[39;49mcreate(\u001b[39m*\u001b[39;49margs, \u001b[39m*\u001b[39;49m\u001b[39m*\u001b[39;49mkwargs)\n\u001b[1;32m     26\u001b[0m     \u001b[39mexcept\u001b[39;00m TryAgain \u001b[39mas\u001b[39;00m e:\n\u001b[1;32m     27\u001b[0m         \u001b[39mif\u001b[39;00m timeout \u001b[39mis\u001b[39;00m \u001b[39mnot\u001b[39;00m \u001b[39mNone\u001b[39;00m \u001b[39mand\u001b[39;00m time\u001b[39m.\u001b[39mtime() \u001b[39m>\u001b[39m start \u001b[39m+\u001b[39m timeout:\n",
      "File \u001b[0;32m~/OpenAIWorkshop/scenarios/incubations/copilot/copilot-venv/lib/python3.8/site-packages/openai/api_resources/abstract/engine_api_resource.py:155\u001b[0m, in \u001b[0;36mEngineAPIResource.create\u001b[0;34m(cls, api_key, api_base, api_type, request_id, api_version, organization, **params)\u001b[0m\n\u001b[1;32m    129\u001b[0m \u001b[39m@classmethod\u001b[39m\n\u001b[1;32m    130\u001b[0m \u001b[39mdef\u001b[39;00m \u001b[39mcreate\u001b[39m(\n\u001b[1;32m    131\u001b[0m     \u001b[39mcls\u001b[39m,\n\u001b[0;32m   (...)\u001b[0m\n\u001b[1;32m    138\u001b[0m     \u001b[39m*\u001b[39m\u001b[39m*\u001b[39mparams,\n\u001b[1;32m    139\u001b[0m ):\n\u001b[1;32m    140\u001b[0m     (\n\u001b[1;32m    141\u001b[0m         deployment_id,\n\u001b[1;32m    142\u001b[0m         engine,\n\u001b[0;32m   (...)\u001b[0m\n\u001b[1;32m    152\u001b[0m         api_key, api_base, api_type, api_version, organization, \u001b[39m*\u001b[39m\u001b[39m*\u001b[39mparams\n\u001b[1;32m    153\u001b[0m     )\n\u001b[0;32m--> 155\u001b[0m     response, _, api_key \u001b[39m=\u001b[39m requestor\u001b[39m.\u001b[39;49mrequest(\n\u001b[1;32m    156\u001b[0m         \u001b[39m\"\u001b[39;49m\u001b[39mpost\u001b[39;49m\u001b[39m\"\u001b[39;49m,\n\u001b[1;32m    157\u001b[0m         url,\n\u001b[1;32m    158\u001b[0m         params\u001b[39m=\u001b[39;49mparams,\n\u001b[1;32m    159\u001b[0m         headers\u001b[39m=\u001b[39;49mheaders,\n\u001b[1;32m    160\u001b[0m         stream\u001b[39m=\u001b[39;49mstream,\n\u001b[1;32m    161\u001b[0m         request_id\u001b[39m=\u001b[39;49mrequest_id,\n\u001b[1;32m    162\u001b[0m         request_timeout\u001b[39m=\u001b[39;49mrequest_timeout,\n\u001b[1;32m    163\u001b[0m     )\n\u001b[1;32m    165\u001b[0m     \u001b[39mif\u001b[39;00m stream:\n\u001b[1;32m    166\u001b[0m         \u001b[39m# must be an iterator\u001b[39;00m\n\u001b[1;32m    167\u001b[0m         \u001b[39massert\u001b[39;00m \u001b[39mnot\u001b[39;00m \u001b[39misinstance\u001b[39m(response, OpenAIResponse)\n",
      "File \u001b[0;32m~/OpenAIWorkshop/scenarios/incubations/copilot/copilot-venv/lib/python3.8/site-packages/openai/api_requestor.py:289\u001b[0m, in \u001b[0;36mAPIRequestor.request\u001b[0;34m(self, method, url, params, headers, files, stream, request_id, request_timeout)\u001b[0m\n\u001b[1;32m    278\u001b[0m \u001b[39mdef\u001b[39;00m \u001b[39mrequest\u001b[39m(\n\u001b[1;32m    279\u001b[0m     \u001b[39mself\u001b[39m,\n\u001b[1;32m    280\u001b[0m     method,\n\u001b[0;32m   (...)\u001b[0m\n\u001b[1;32m    287\u001b[0m     request_timeout: Optional[Union[\u001b[39mfloat\u001b[39m, Tuple[\u001b[39mfloat\u001b[39m, \u001b[39mfloat\u001b[39m]]] \u001b[39m=\u001b[39m \u001b[39mNone\u001b[39;00m,\n\u001b[1;32m    288\u001b[0m ) \u001b[39m-\u001b[39m\u001b[39m>\u001b[39m Tuple[Union[OpenAIResponse, Iterator[OpenAIResponse]], \u001b[39mbool\u001b[39m, \u001b[39mstr\u001b[39m]:\n\u001b[0;32m--> 289\u001b[0m     result \u001b[39m=\u001b[39m \u001b[39mself\u001b[39;49m\u001b[39m.\u001b[39;49mrequest_raw(\n\u001b[1;32m    290\u001b[0m         method\u001b[39m.\u001b[39;49mlower(),\n\u001b[1;32m    291\u001b[0m         url,\n\u001b[1;32m    292\u001b[0m         params\u001b[39m=\u001b[39;49mparams,\n\u001b[1;32m    293\u001b[0m         supplied_headers\u001b[39m=\u001b[39;49mheaders,\n\u001b[1;32m    294\u001b[0m         files\u001b[39m=\u001b[39;49mfiles,\n\u001b[1;32m    295\u001b[0m         stream\u001b[39m=\u001b[39;49mstream,\n\u001b[1;32m    296\u001b[0m         request_id\u001b[39m=\u001b[39;49mrequest_id,\n\u001b[1;32m    297\u001b[0m         request_timeout\u001b[39m=\u001b[39;49mrequest_timeout,\n\u001b[1;32m    298\u001b[0m     )\n\u001b[1;32m    299\u001b[0m     resp, got_stream \u001b[39m=\u001b[39m \u001b[39mself\u001b[39m\u001b[39m.\u001b[39m_interpret_response(result, stream)\n\u001b[1;32m    300\u001b[0m     \u001b[39mreturn\u001b[39;00m resp, got_stream, \u001b[39mself\u001b[39m\u001b[39m.\u001b[39mapi_key\n",
      "File \u001b[0;32m~/OpenAIWorkshop/scenarios/incubations/copilot/copilot-venv/lib/python3.8/site-packages/openai/api_requestor.py:606\u001b[0m, in \u001b[0;36mAPIRequestor.request_raw\u001b[0;34m(self, method, url, params, supplied_headers, files, stream, request_id, request_timeout)\u001b[0m\n\u001b[1;32m    604\u001b[0m     _thread_context\u001b[39m.\u001b[39msession_create_time \u001b[39m=\u001b[39m time\u001b[39m.\u001b[39mtime()\n\u001b[1;32m    605\u001b[0m \u001b[39mtry\u001b[39;00m:\n\u001b[0;32m--> 606\u001b[0m     result \u001b[39m=\u001b[39m _thread_context\u001b[39m.\u001b[39;49msession\u001b[39m.\u001b[39;49mrequest(\n\u001b[1;32m    607\u001b[0m         method,\n\u001b[1;32m    608\u001b[0m         abs_url,\n\u001b[1;32m    609\u001b[0m         headers\u001b[39m=\u001b[39;49mheaders,\n\u001b[1;32m    610\u001b[0m         data\u001b[39m=\u001b[39;49mdata,\n\u001b[1;32m    611\u001b[0m         files\u001b[39m=\u001b[39;49mfiles,\n\u001b[1;32m    612\u001b[0m         stream\u001b[39m=\u001b[39;49mstream,\n\u001b[1;32m    613\u001b[0m         timeout\u001b[39m=\u001b[39;49mrequest_timeout \u001b[39mif\u001b[39;49;00m request_timeout \u001b[39melse\u001b[39;49;00m TIMEOUT_SECS,\n\u001b[1;32m    614\u001b[0m         proxies\u001b[39m=\u001b[39;49m_thread_context\u001b[39m.\u001b[39;49msession\u001b[39m.\u001b[39;49mproxies,\n\u001b[1;32m    615\u001b[0m     )\n\u001b[1;32m    616\u001b[0m \u001b[39mexcept\u001b[39;00m requests\u001b[39m.\u001b[39mexceptions\u001b[39m.\u001b[39mTimeout \u001b[39mas\u001b[39;00m e:\n\u001b[1;32m    617\u001b[0m     \u001b[39mraise\u001b[39;00m error\u001b[39m.\u001b[39mTimeout(\u001b[39m\"\u001b[39m\u001b[39mRequest timed out: \u001b[39m\u001b[39m{}\u001b[39;00m\u001b[39m\"\u001b[39m\u001b[39m.\u001b[39mformat(e)) \u001b[39mfrom\u001b[39;00m \u001b[39me\u001b[39;00m\n",
      "File \u001b[0;32m~/OpenAIWorkshop/scenarios/incubations/copilot/copilot-venv/lib/python3.8/site-packages/requests/sessions.py:589\u001b[0m, in \u001b[0;36mSession.request\u001b[0;34m(self, method, url, params, data, headers, cookies, files, auth, timeout, allow_redirects, proxies, hooks, stream, verify, cert, json)\u001b[0m\n\u001b[1;32m    584\u001b[0m send_kwargs \u001b[39m=\u001b[39m {\n\u001b[1;32m    585\u001b[0m     \u001b[39m\"\u001b[39m\u001b[39mtimeout\u001b[39m\u001b[39m\"\u001b[39m: timeout,\n\u001b[1;32m    586\u001b[0m     \u001b[39m\"\u001b[39m\u001b[39mallow_redirects\u001b[39m\u001b[39m\"\u001b[39m: allow_redirects,\n\u001b[1;32m    587\u001b[0m }\n\u001b[1;32m    588\u001b[0m send_kwargs\u001b[39m.\u001b[39mupdate(settings)\n\u001b[0;32m--> 589\u001b[0m resp \u001b[39m=\u001b[39m \u001b[39mself\u001b[39;49m\u001b[39m.\u001b[39;49msend(prep, \u001b[39m*\u001b[39;49m\u001b[39m*\u001b[39;49msend_kwargs)\n\u001b[1;32m    591\u001b[0m \u001b[39mreturn\u001b[39;00m resp\n",
      "File \u001b[0;32m~/OpenAIWorkshop/scenarios/incubations/copilot/copilot-venv/lib/python3.8/site-packages/requests/sessions.py:703\u001b[0m, in \u001b[0;36mSession.send\u001b[0;34m(self, request, **kwargs)\u001b[0m\n\u001b[1;32m    700\u001b[0m start \u001b[39m=\u001b[39m preferred_clock()\n\u001b[1;32m    702\u001b[0m \u001b[39m# Send the request\u001b[39;00m\n\u001b[0;32m--> 703\u001b[0m r \u001b[39m=\u001b[39m adapter\u001b[39m.\u001b[39;49msend(request, \u001b[39m*\u001b[39;49m\u001b[39m*\u001b[39;49mkwargs)\n\u001b[1;32m    705\u001b[0m \u001b[39m# Total elapsed time of the request (approximately)\u001b[39;00m\n\u001b[1;32m    706\u001b[0m elapsed \u001b[39m=\u001b[39m preferred_clock() \u001b[39m-\u001b[39m start\n",
      "File \u001b[0;32m~/OpenAIWorkshop/scenarios/incubations/copilot/copilot-venv/lib/python3.8/site-packages/requests/adapters.py:486\u001b[0m, in \u001b[0;36mHTTPAdapter.send\u001b[0;34m(self, request, stream, timeout, verify, cert, proxies)\u001b[0m\n\u001b[1;32m    483\u001b[0m     timeout \u001b[39m=\u001b[39m TimeoutSauce(connect\u001b[39m=\u001b[39mtimeout, read\u001b[39m=\u001b[39mtimeout)\n\u001b[1;32m    485\u001b[0m \u001b[39mtry\u001b[39;00m:\n\u001b[0;32m--> 486\u001b[0m     resp \u001b[39m=\u001b[39m conn\u001b[39m.\u001b[39;49murlopen(\n\u001b[1;32m    487\u001b[0m         method\u001b[39m=\u001b[39;49mrequest\u001b[39m.\u001b[39;49mmethod,\n\u001b[1;32m    488\u001b[0m         url\u001b[39m=\u001b[39;49murl,\n\u001b[1;32m    489\u001b[0m         body\u001b[39m=\u001b[39;49mrequest\u001b[39m.\u001b[39;49mbody,\n\u001b[1;32m    490\u001b[0m         headers\u001b[39m=\u001b[39;49mrequest\u001b[39m.\u001b[39;49mheaders,\n\u001b[1;32m    491\u001b[0m         redirect\u001b[39m=\u001b[39;49m\u001b[39mFalse\u001b[39;49;00m,\n\u001b[1;32m    492\u001b[0m         assert_same_host\u001b[39m=\u001b[39;49m\u001b[39mFalse\u001b[39;49;00m,\n\u001b[1;32m    493\u001b[0m         preload_content\u001b[39m=\u001b[39;49m\u001b[39mFalse\u001b[39;49;00m,\n\u001b[1;32m    494\u001b[0m         decode_content\u001b[39m=\u001b[39;49m\u001b[39mFalse\u001b[39;49;00m,\n\u001b[1;32m    495\u001b[0m         retries\u001b[39m=\u001b[39;49m\u001b[39mself\u001b[39;49m\u001b[39m.\u001b[39;49mmax_retries,\n\u001b[1;32m    496\u001b[0m         timeout\u001b[39m=\u001b[39;49mtimeout,\n\u001b[1;32m    497\u001b[0m         chunked\u001b[39m=\u001b[39;49mchunked,\n\u001b[1;32m    498\u001b[0m     )\n\u001b[1;32m    500\u001b[0m \u001b[39mexcept\u001b[39;00m (ProtocolError, \u001b[39mOSError\u001b[39;00m) \u001b[39mas\u001b[39;00m err:\n\u001b[1;32m    501\u001b[0m     \u001b[39mraise\u001b[39;00m \u001b[39mConnectionError\u001b[39;00m(err, request\u001b[39m=\u001b[39mrequest)\n",
      "File \u001b[0;32m~/OpenAIWorkshop/scenarios/incubations/copilot/copilot-venv/lib/python3.8/site-packages/urllib3/connectionpool.py:790\u001b[0m, in \u001b[0;36mHTTPConnectionPool.urlopen\u001b[0;34m(self, method, url, body, headers, retries, redirect, assert_same_host, timeout, pool_timeout, release_conn, chunked, body_pos, preload_content, decode_content, **response_kw)\u001b[0m\n\u001b[1;32m    787\u001b[0m response_conn \u001b[39m=\u001b[39m conn \u001b[39mif\u001b[39;00m \u001b[39mnot\u001b[39;00m release_conn \u001b[39melse\u001b[39;00m \u001b[39mNone\u001b[39;00m\n\u001b[1;32m    789\u001b[0m \u001b[39m# Make the request on the HTTPConnection object\u001b[39;00m\n\u001b[0;32m--> 790\u001b[0m response \u001b[39m=\u001b[39m \u001b[39mself\u001b[39;49m\u001b[39m.\u001b[39;49m_make_request(\n\u001b[1;32m    791\u001b[0m     conn,\n\u001b[1;32m    792\u001b[0m     method,\n\u001b[1;32m    793\u001b[0m     url,\n\u001b[1;32m    794\u001b[0m     timeout\u001b[39m=\u001b[39;49mtimeout_obj,\n\u001b[1;32m    795\u001b[0m     body\u001b[39m=\u001b[39;49mbody,\n\u001b[1;32m    796\u001b[0m     headers\u001b[39m=\u001b[39;49mheaders,\n\u001b[1;32m    797\u001b[0m     chunked\u001b[39m=\u001b[39;49mchunked,\n\u001b[1;32m    798\u001b[0m     retries\u001b[39m=\u001b[39;49mretries,\n\u001b[1;32m    799\u001b[0m     response_conn\u001b[39m=\u001b[39;49mresponse_conn,\n\u001b[1;32m    800\u001b[0m     preload_content\u001b[39m=\u001b[39;49mpreload_content,\n\u001b[1;32m    801\u001b[0m     decode_content\u001b[39m=\u001b[39;49mdecode_content,\n\u001b[1;32m    802\u001b[0m     \u001b[39m*\u001b[39;49m\u001b[39m*\u001b[39;49mresponse_kw,\n\u001b[1;32m    803\u001b[0m )\n\u001b[1;32m    805\u001b[0m \u001b[39m# Everything went great!\u001b[39;00m\n\u001b[1;32m    806\u001b[0m clean_exit \u001b[39m=\u001b[39m \u001b[39mTrue\u001b[39;00m\n",
      "File \u001b[0;32m~/OpenAIWorkshop/scenarios/incubations/copilot/copilot-venv/lib/python3.8/site-packages/urllib3/connectionpool.py:536\u001b[0m, in \u001b[0;36mHTTPConnectionPool._make_request\u001b[0;34m(self, conn, method, url, body, headers, retries, timeout, chunked, response_conn, preload_content, decode_content, enforce_content_length)\u001b[0m\n\u001b[1;32m    534\u001b[0m \u001b[39m# Receive the response from the server\u001b[39;00m\n\u001b[1;32m    535\u001b[0m \u001b[39mtry\u001b[39;00m:\n\u001b[0;32m--> 536\u001b[0m     response \u001b[39m=\u001b[39m conn\u001b[39m.\u001b[39;49mgetresponse()\n\u001b[1;32m    537\u001b[0m \u001b[39mexcept\u001b[39;00m (BaseSSLError, \u001b[39mOSError\u001b[39;00m) \u001b[39mas\u001b[39;00m e:\n\u001b[1;32m    538\u001b[0m     \u001b[39mself\u001b[39m\u001b[39m.\u001b[39m_raise_timeout(err\u001b[39m=\u001b[39me, url\u001b[39m=\u001b[39murl, timeout_value\u001b[39m=\u001b[39mread_timeout)\n",
      "File \u001b[0;32m~/OpenAIWorkshop/scenarios/incubations/copilot/copilot-venv/lib/python3.8/site-packages/urllib3/connection.py:461\u001b[0m, in \u001b[0;36mHTTPConnection.getresponse\u001b[0;34m(self)\u001b[0m\n\u001b[1;32m    458\u001b[0m \u001b[39mfrom\u001b[39;00m \u001b[39m.\u001b[39;00m\u001b[39mresponse\u001b[39;00m \u001b[39mimport\u001b[39;00m HTTPResponse\n\u001b[1;32m    460\u001b[0m \u001b[39m# Get the response from http.client.HTTPConnection\u001b[39;00m\n\u001b[0;32m--> 461\u001b[0m httplib_response \u001b[39m=\u001b[39m \u001b[39msuper\u001b[39;49m()\u001b[39m.\u001b[39;49mgetresponse()\n\u001b[1;32m    463\u001b[0m \u001b[39mtry\u001b[39;00m:\n\u001b[1;32m    464\u001b[0m     assert_header_parsing(httplib_response\u001b[39m.\u001b[39mmsg)\n",
      "File \u001b[0;32m/usr/lib/python3.8/http/client.py:1348\u001b[0m, in \u001b[0;36mHTTPConnection.getresponse\u001b[0;34m(self)\u001b[0m\n\u001b[1;32m   1346\u001b[0m \u001b[39mtry\u001b[39;00m:\n\u001b[1;32m   1347\u001b[0m     \u001b[39mtry\u001b[39;00m:\n\u001b[0;32m-> 1348\u001b[0m         response\u001b[39m.\u001b[39;49mbegin()\n\u001b[1;32m   1349\u001b[0m     \u001b[39mexcept\u001b[39;00m \u001b[39mConnectionError\u001b[39;00m:\n\u001b[1;32m   1350\u001b[0m         \u001b[39mself\u001b[39m\u001b[39m.\u001b[39mclose()\n",
      "File \u001b[0;32m/usr/lib/python3.8/http/client.py:316\u001b[0m, in \u001b[0;36mHTTPResponse.begin\u001b[0;34m(self)\u001b[0m\n\u001b[1;32m    314\u001b[0m \u001b[39m# read until we get a non-100 response\u001b[39;00m\n\u001b[1;32m    315\u001b[0m \u001b[39mwhile\u001b[39;00m \u001b[39mTrue\u001b[39;00m:\n\u001b[0;32m--> 316\u001b[0m     version, status, reason \u001b[39m=\u001b[39m \u001b[39mself\u001b[39;49m\u001b[39m.\u001b[39;49m_read_status()\n\u001b[1;32m    317\u001b[0m     \u001b[39mif\u001b[39;00m status \u001b[39m!=\u001b[39m CONTINUE:\n\u001b[1;32m    318\u001b[0m         \u001b[39mbreak\u001b[39;00m\n",
      "File \u001b[0;32m/usr/lib/python3.8/http/client.py:277\u001b[0m, in \u001b[0;36mHTTPResponse._read_status\u001b[0;34m(self)\u001b[0m\n\u001b[1;32m    276\u001b[0m \u001b[39mdef\u001b[39;00m \u001b[39m_read_status\u001b[39m(\u001b[39mself\u001b[39m):\n\u001b[0;32m--> 277\u001b[0m     line \u001b[39m=\u001b[39m \u001b[39mstr\u001b[39m(\u001b[39mself\u001b[39;49m\u001b[39m.\u001b[39;49mfp\u001b[39m.\u001b[39;49mreadline(_MAXLINE \u001b[39m+\u001b[39;49m \u001b[39m1\u001b[39;49m), \u001b[39m\"\u001b[39m\u001b[39miso-8859-1\u001b[39m\u001b[39m\"\u001b[39m)\n\u001b[1;32m    278\u001b[0m     \u001b[39mif\u001b[39;00m \u001b[39mlen\u001b[39m(line) \u001b[39m>\u001b[39m _MAXLINE:\n\u001b[1;32m    279\u001b[0m         \u001b[39mraise\u001b[39;00m LineTooLong(\u001b[39m\"\u001b[39m\u001b[39mstatus line\u001b[39m\u001b[39m\"\u001b[39m)\n",
      "File \u001b[0;32m/usr/lib/python3.8/socket.py:669\u001b[0m, in \u001b[0;36mSocketIO.readinto\u001b[0;34m(self, b)\u001b[0m\n\u001b[1;32m    667\u001b[0m \u001b[39mwhile\u001b[39;00m \u001b[39mTrue\u001b[39;00m:\n\u001b[1;32m    668\u001b[0m     \u001b[39mtry\u001b[39;00m:\n\u001b[0;32m--> 669\u001b[0m         \u001b[39mreturn\u001b[39;00m \u001b[39mself\u001b[39;49m\u001b[39m.\u001b[39;49m_sock\u001b[39m.\u001b[39;49mrecv_into(b)\n\u001b[1;32m    670\u001b[0m     \u001b[39mexcept\u001b[39;00m timeout:\n\u001b[1;32m    671\u001b[0m         \u001b[39mself\u001b[39m\u001b[39m.\u001b[39m_timeout_occurred \u001b[39m=\u001b[39m \u001b[39mTrue\u001b[39;00m\n",
      "File \u001b[0;32m/usr/lib/python3.8/ssl.py:1241\u001b[0m, in \u001b[0;36mSSLSocket.recv_into\u001b[0;34m(self, buffer, nbytes, flags)\u001b[0m\n\u001b[1;32m   1237\u001b[0m     \u001b[39mif\u001b[39;00m flags \u001b[39m!=\u001b[39m \u001b[39m0\u001b[39m:\n\u001b[1;32m   1238\u001b[0m         \u001b[39mraise\u001b[39;00m \u001b[39mValueError\u001b[39;00m(\n\u001b[1;32m   1239\u001b[0m           \u001b[39m\"\u001b[39m\u001b[39mnon-zero flags not allowed in calls to recv_into() on \u001b[39m\u001b[39m%s\u001b[39;00m\u001b[39m\"\u001b[39m \u001b[39m%\u001b[39m\n\u001b[1;32m   1240\u001b[0m           \u001b[39mself\u001b[39m\u001b[39m.\u001b[39m\u001b[39m__class__\u001b[39m)\n\u001b[0;32m-> 1241\u001b[0m     \u001b[39mreturn\u001b[39;00m \u001b[39mself\u001b[39;49m\u001b[39m.\u001b[39;49mread(nbytes, buffer)\n\u001b[1;32m   1242\u001b[0m \u001b[39melse\u001b[39;00m:\n\u001b[1;32m   1243\u001b[0m     \u001b[39mreturn\u001b[39;00m \u001b[39msuper\u001b[39m()\u001b[39m.\u001b[39mrecv_into(buffer, nbytes, flags)\n",
      "File \u001b[0;32m/usr/lib/python3.8/ssl.py:1099\u001b[0m, in \u001b[0;36mSSLSocket.read\u001b[0;34m(self, len, buffer)\u001b[0m\n\u001b[1;32m   1097\u001b[0m \u001b[39mtry\u001b[39;00m:\n\u001b[1;32m   1098\u001b[0m     \u001b[39mif\u001b[39;00m buffer \u001b[39mis\u001b[39;00m \u001b[39mnot\u001b[39;00m \u001b[39mNone\u001b[39;00m:\n\u001b[0;32m-> 1099\u001b[0m         \u001b[39mreturn\u001b[39;00m \u001b[39mself\u001b[39;49m\u001b[39m.\u001b[39;49m_sslobj\u001b[39m.\u001b[39;49mread(\u001b[39mlen\u001b[39;49m, buffer)\n\u001b[1;32m   1100\u001b[0m     \u001b[39melse\u001b[39;00m:\n\u001b[1;32m   1101\u001b[0m         \u001b[39mreturn\u001b[39;00m \u001b[39mself\u001b[39m\u001b[39m.\u001b[39m_sslobj\u001b[39m.\u001b[39mread(\u001b[39mlen\u001b[39m)\n",
      "\u001b[0;31mKeyboardInterrupt\u001b[0m: "
     ]
    }
   ],
   "source": [
    "import concurrent\n",
    "openai.api_version = \"2023-05-15\"\n",
    "import time\n",
    "conversation_pause_duration=2\n",
    "agent_assist_freq=5\n",
    "conversation_buffer =[]\n",
    "def stream_conversation(conversation_buffer, pause_duration=5):\n",
    "    responses = generate_conversation(True)\n",
    "    conversation_counter =0\n",
    "    old_conversation_counter =0\n",
    "    for response in responses:\n",
    "        content = response['choices'][0][\"delta\"].get(\"content\",\"\")\n",
    "        conversation_buffer.append(content) \n",
    "        if \"\\n\"  not in content:\n",
    "            print(content, end=\"\")\n",
    "        else:\n",
    "            conversation_counter+=1\n",
    "            if conversation_counter > old_conversation_counter+2:\n",
    "                conversation = \"\".join(conversation_buffer)\n",
    "                print(\"starting recommendation\")\n",
    "                print(\"conversation: \", conversation)\n",
    "                recommend(conversation)\n",
    "                print(\"ending recommendation\")\n",
    "                old_conversation_counter=conversation_counter\n",
    "\n",
    "\n",
    "\n",
    "        \n",
    "stream_conversation(conversation_buffer,conversation_pause_duration)"
   ]
  },
  {
   "cell_type": "code",
   "execution_count": null,
   "metadata": {},
   "outputs": [],
   "source": []
  }
 ],
 "metadata": {
  "kernelspec": {
   "display_name": "forecasting",
   "language": "python",
   "name": "python3"
  },
  "language_info": {
   "codemirror_mode": {
    "name": "ipython",
    "version": 3
   },
   "file_extension": ".py",
   "mimetype": "text/x-python",
   "name": "python",
   "nbconvert_exporter": "python",
   "pygments_lexer": "ipython3",
   "version": "3.8.10"
  },
  "orig_nbformat": 4
 },
 "nbformat": 4,
 "nbformat_minor": 2
}
