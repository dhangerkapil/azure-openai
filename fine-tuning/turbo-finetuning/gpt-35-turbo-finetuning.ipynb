{
 "cells": [
  {
   "cell_type": "code",
   "execution_count": 4,
   "metadata": {},
   "outputs": [
    {
     "name": "stderr",
     "output_type": "stream",
     "text": [
      "UsageError: Line magic function `%export` not found.\n"
     ]
    }
   ],
   "source": [
    "%export AZURE_OPENAI_API_KEY=\"0886b12f3faf4de1900a162329289314\" \n",
    "%export AZURE_OPENAI_ENDPOINT=\"https://kdopenai-finetune.openai.azure.com/\" "
   ]
  },
  {
   "cell_type": "code",
   "execution_count": 18,
   "metadata": {},
   "outputs": [],
   "source": [
    "import os\n",
    "\n",
    "# Define the environment variables\n",
    "os.environ['AZURE_OPENAI_API_KEY'] = '0886b12f3faf4de1900a162329289314'\n",
    "os.environ['AZURE_OPENAI_ENDPOINT'] = 'https://kdopenai-finetune.openai.azure.com/'\n",
    "os.environ['TEMP_AUTH_TOKEN'] = 'eyJ0eXAiOiJKV1QiLCJhbGciOiJSUzI1NiIsIng1dCI6IjlHbW55RlBraGMzaE91UjIybXZTdmduTG83WSIsImtpZCI6IjlHbW55RlBraGMzaE91UjIybXZTdmduTG83WSJ9.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.EfsqeMA8h_BWOMNfNKMdeFZM5JaRJEqwLzB05DvKM_7GycU0RpcSgDJ7FnlZyZSsXpVKfuEpnBdmBNdXSfYSUj3pVGI0QW9J_aQ9dRpI3tafU0ctIvZFHFxtXkgu37d60tvT9ZeYFA1kXOwN_PbAOEd8_wC8Kvut7WDF3io4XhjiiZJITBj3LSVX1IaLlT3alAXE_gUyGaFIOB3sQr5p-uNyVc7wJiE6BnSlGrCiZAZHLff3CdJbvmUjWTvXUYJxl443Jm_XlAnOsH6IWC9w4Iq2yFVL4Gwv6hGs6kXCvyRZywuNV-Asp4q8hJc-P7cNx-jbb7GvHoGGgRQt4PmUsQ'\n",
    "\n",
    "# # Verify that the environment variable has been set\n",
    "# print(f\"MY_VARIABLE is set to: {os.getenv('AZURE_OPENAI_API_KEY')}\")\n"
   ]
  },
  {
   "cell_type": "code",
   "execution_count": 1,
   "metadata": {},
   "outputs": [
    {
     "name": "stdout",
     "output_type": "stream",
     "text": [
      "Number of examples in training set: 10\n",
      "First example in training set:\n",
      "{'role': 'system', 'content': 'Clippy is a factual chatbot that is also sarcastic.'}\n",
      "{'role': 'user', 'content': 'Who discovered Antarctica?'}\n",
      "{'role': 'assistant', 'content': \"Some chaps named Fabian Gottlieb von Bellingshausen and Mikhail Lazarev, as if they don't teach that in every school!\"}\n",
      "\n",
      "Number of examples in validation set: 10\n",
      "First example in validation set:\n",
      "{'role': 'system', 'content': 'Clippy is a factual chatbot that is also sarcastic.'}\n",
      "{'role': 'user', 'content': \"What's the capital of Australia?\"}\n",
      "{'role': 'assistant', 'content': \"It's Canberra, not Sydney. Shocking, I know!\"}\n"
     ]
    }
   ],
   "source": [
    "import json\n",
    "\n",
    "# Load the training set\n",
    "with open('training_set.jsonl', 'r', encoding='utf-8') as f:\n",
    "    training_dataset = [json.loads(line) for line in f]\n",
    "\n",
    "# Training dataset stats\n",
    "print(\"Number of examples in training set:\", len(training_dataset))\n",
    "print(\"First example in training set:\")\n",
    "for message in training_dataset[0][\"messages\"]:\n",
    "    print(message)\n",
    "\n",
    "# Load the validation set\n",
    "with open('validation_set.jsonl', 'r', encoding='utf-8') as f:\n",
    "    validation_dataset = [json.loads(line) for line in f]\n",
    "\n",
    "# Validation dataset stats\n",
    "print(\"\\nNumber of examples in validation set:\", len(validation_dataset))\n",
    "print(\"First example in validation set:\")\n",
    "for message in validation_dataset[0][\"messages\"]:\n",
    "    print(message)"
   ]
  },
  {
   "cell_type": "code",
   "execution_count": 3,
   "metadata": {},
   "outputs": [
    {
     "name": "stdout",
     "output_type": "stream",
     "text": [
      "Collecting tiktoken\n",
      "  Using cached tiktoken-0.5.1-cp38-cp38-manylinux_2_17_x86_64.manylinux2014_x86_64.whl (2.0 MB)\n",
      "Collecting regex>=2022.1.18\n",
      "  Using cached regex-2023.10.3-cp38-cp38-manylinux_2_17_x86_64.manylinux2014_x86_64.whl (776 kB)\n",
      "Requirement already satisfied: requests>=2.26.0 in /home/kapildhanger/azure-openai/innovation/copilot/copilot-venv/lib/python3.8/site-packages (from tiktoken) (2.31.0)\n",
      "Requirement already satisfied: urllib3<3,>=1.21.1 in /home/kapildhanger/azure-openai/innovation/copilot/copilot-venv/lib/python3.8/site-packages (from requests>=2.26.0->tiktoken) (2.0.6)\n",
      "Requirement already satisfied: certifi>=2017.4.17 in /home/kapildhanger/azure-openai/innovation/copilot/copilot-venv/lib/python3.8/site-packages (from requests>=2.26.0->tiktoken) (2023.7.22)\n",
      "Requirement already satisfied: charset-normalizer<4,>=2 in /home/kapildhanger/azure-openai/innovation/copilot/copilot-venv/lib/python3.8/site-packages (from requests>=2.26.0->tiktoken) (3.3.0)\n",
      "Requirement already satisfied: idna<4,>=2.5 in /home/kapildhanger/azure-openai/innovation/copilot/copilot-venv/lib/python3.8/site-packages (from requests>=2.26.0->tiktoken) (3.4)\n",
      "Installing collected packages: regex, tiktoken\n",
      "Successfully installed regex-2023.10.3 tiktoken-0.5.1\n",
      "Note: you may need to restart the kernel to use updated packages.\n"
     ]
    }
   ],
   "source": [
    "%pip install tiktoken"
   ]
  },
  {
   "cell_type": "code",
   "execution_count": 1,
   "metadata": {},
   "outputs": [
    {
     "name": "stdout",
     "output_type": "stream",
     "text": [
      "Processing file: training_set.jsonl\n",
      "\n",
      "#### Distribution of total tokens:\n",
      "min / max: 47, 62\n",
      "mean / median: 52.1, 50.5\n",
      "p5 / p95: 47.9, 57.5\n",
      "\n",
      "#### Distribution of assistant tokens:\n",
      "min / max: 13, 30\n",
      "mean / median: 17.6, 15.5\n",
      "p5 / p95: 13.0, 21.9\n",
      "**************************************************\n",
      "Processing file: validation_set.jsonl\n",
      "\n",
      "#### Distribution of total tokens:\n",
      "min / max: 43, 65\n",
      "mean / median: 51.4, 49.0\n",
      "p5 / p95: 45.7, 56.9\n",
      "\n",
      "#### Distribution of assistant tokens:\n",
      "min / max: 8, 29\n",
      "mean / median: 15.9, 13.5\n",
      "p5 / p95: 11.6, 20.9\n",
      "**************************************************\n"
     ]
    }
   ],
   "source": [
    "import json\n",
    "import tiktoken\n",
    "import numpy as np\n",
    "from collections import defaultdict\n",
    "\n",
    "encoding = tiktoken.get_encoding(\"cl100k_base\") # default encoding used by gpt-4, turbo, and text-embedding-ada-002 models\n",
    "\n",
    "def num_tokens_from_messages(messages, tokens_per_message=3, tokens_per_name=1):\n",
    "    num_tokens = 0\n",
    "    for message in messages:\n",
    "        num_tokens += tokens_per_message\n",
    "        for key, value in message.items():\n",
    "            num_tokens += len(encoding.encode(value))\n",
    "            if key == \"name\":\n",
    "                num_tokens += tokens_per_name\n",
    "    num_tokens += 3\n",
    "    return num_tokens\n",
    "\n",
    "def num_assistant_tokens_from_messages(messages):\n",
    "    num_tokens = 0\n",
    "    for message in messages:\n",
    "        if message[\"role\"] == \"assistant\":\n",
    "            num_tokens += len(encoding.encode(message[\"content\"]))\n",
    "    return num_tokens\n",
    "\n",
    "def print_distribution(values, name):\n",
    "    print(f\"\\n#### Distribution of {name}:\")\n",
    "    print(f\"min / max: {min(values)}, {max(values)}\")\n",
    "    print(f\"mean / median: {np.mean(values)}, {np.median(values)}\")\n",
    "    print(f\"p5 / p95: {np.quantile(values, 0.1)}, {np.quantile(values, 0.9)}\")\n",
    "\n",
    "files = ['training_set.jsonl', 'validation_set.jsonl']\n",
    "\n",
    "for file in files:\n",
    "    print(f\"Processing file: {file}\")\n",
    "    with open(file, 'r', encoding='utf-8') as f:\n",
    "        dataset = [json.loads(line) for line in f]\n",
    "\n",
    "    total_tokens = []\n",
    "    assistant_tokens = []\n",
    "\n",
    "    for ex in dataset:\n",
    "        messages = ex.get(\"messages\", {})\n",
    "        total_tokens.append(num_tokens_from_messages(messages))\n",
    "        assistant_tokens.append(num_assistant_tokens_from_messages(messages))\n",
    "    \n",
    "    print_distribution(total_tokens, \"total tokens\")\n",
    "    print_distribution(assistant_tokens, \"assistant tokens\")\n",
    "    print('*' * 50)"
   ]
  },
  {
   "cell_type": "code",
   "execution_count": 7,
   "metadata": {},
   "outputs": [
    {
     "name": "stdout",
     "output_type": "stream",
     "text": [
      "Training file ID: file-34d91c373738479e920ad74fdbf7189d\n",
      "Validation file ID: file-d42c5eea3766467d8cd4419bc70d2c76\n"
     ]
    }
   ],
   "source": [
    "# Upload fine-tuning files\n",
    "import openai\n",
    "import os\n",
    "\n",
    "openai.api_key = os.getenv(\"AZURE_OPENAI_API_KEY\") \n",
    "openai.api_base =  os.getenv(\"AZURE_OPENAI_ENDPOINT\")\n",
    "openai.api_type = 'azure'\n",
    "openai.api_version = '2023-09-15-preview' # This API version or later is required to access fine-tuning for turbo/babbage-002/davinci-002\n",
    "\n",
    "training_file_name = 'training_set.jsonl'\n",
    "validation_file_name = 'validation_set.jsonl'\n",
    "\n",
    "# Upload the training and validation dataset files to Azure OpenAI with the SDK.\n",
    "\n",
    "training_response = openai.File.create(\n",
    "    file=open(training_file_name, \"rb\"), purpose=\"fine-tune\", user_provided_filename=\"training_set.jsonl\"\n",
    ")\n",
    "training_file_id = training_response[\"id\"]\n",
    "\n",
    "validation_response = openai.File.create(\n",
    "    file=open(validation_file_name, \"rb\"), purpose=\"fine-tune\", user_provided_filename=\"validation_set.jsonl\"\n",
    ")\n",
    "validation_file_id = validation_response[\"id\"]\n",
    "\n",
    "print(\"Training file ID:\", training_file_id)\n",
    "print(\"Validation file ID:\", validation_file_id)"
   ]
  },
  {
   "cell_type": "code",
   "execution_count": 8,
   "metadata": {},
   "outputs": [
    {
     "name": "stdout",
     "output_type": "stream",
     "text": [
      "Job ID: ftjob-19c5f03fc2174a68ae246ccdbeb176e3\n",
      "Status: pending\n",
      "{\n",
      "  \"hyperparameters\": {\n",
      "    \"n_epochs\": 2\n",
      "  },\n",
      "  \"status\": \"pending\",\n",
      "  \"model\": \"gpt-35-turbo-0613\",\n",
      "  \"training_file\": \"file-34d91c373738479e920ad74fdbf7189d\",\n",
      "  \"validation_file\": \"file-d42c5eea3766467d8cd4419bc70d2c76\",\n",
      "  \"id\": \"ftjob-19c5f03fc2174a68ae246ccdbeb176e3\",\n",
      "  \"created_at\": 1697937111,\n",
      "  \"updated_at\": 1697937111,\n",
      "  \"object\": \"fine_tuning.job\"\n",
      "}\n"
     ]
    }
   ],
   "source": [
    "response = openai.FineTuningJob.create(\n",
    "    training_file=training_file_id,\n",
    "    validation_file=validation_file_id,\n",
    "    model=\"gpt-35-turbo-0613\",\n",
    ")\n",
    "\n",
    "job_id = response[\"id\"]\n",
    "\n",
    "# You can use the job ID to monitor the status of the fine-tuning job.\n",
    "# The fine-tuning job will take some time to start and complete.\n",
    "\n",
    "print(\"Job ID:\", response[\"id\"])\n",
    "print(\"Status:\", response[\"status\"])\n",
    "print(response)"
   ]
  },
  {
   "cell_type": "code",
   "execution_count": 9,
   "metadata": {},
   "outputs": [
    {
     "name": "stdout",
     "output_type": "stream",
     "text": [
      "Job ID: ftjob-19c5f03fc2174a68ae246ccdbeb176e3\n",
      "Status: pending\n",
      "{\n",
      "  \"hyperparameters\": {\n",
      "    \"n_epochs\": 2\n",
      "  },\n",
      "  \"status\": \"pending\",\n",
      "  \"model\": \"gpt-35-turbo-0613\",\n",
      "  \"training_file\": \"file-34d91c373738479e920ad74fdbf7189d\",\n",
      "  \"validation_file\": \"file-d42c5eea3766467d8cd4419bc70d2c76\",\n",
      "  \"id\": \"ftjob-19c5f03fc2174a68ae246ccdbeb176e3\",\n",
      "  \"created_at\": 1697937111,\n",
      "  \"updated_at\": 1697937115,\n",
      "  \"object\": \"fine_tuning.job\"\n",
      "}\n"
     ]
    }
   ],
   "source": [
    "response = openai.FineTuningJob.retrieve(job_id)\n",
    "\n",
    "print(\"Job ID:\", response[\"id\"])\n",
    "print(\"Status:\", response[\"status\"])\n",
    "print(response)"
   ]
  },
  {
   "cell_type": "code",
   "execution_count": 13,
   "metadata": {},
   "outputs": [
    {
     "name": "stdout",
     "output_type": "stream",
     "text": [
      "Fine-tuning job ftjob-19c5f03fc2174a68ae246ccdbeb176e3 finished with status: succeeded\n",
      "Checking other fine-tune jobs for this resource.\n",
      "Found 1 fine-tune jobs.\n"
     ]
    }
   ],
   "source": [
    "# Track training status\n",
    "\n",
    "from IPython.display import clear_output\n",
    "import time\n",
    "\n",
    "start_time = time.time()\n",
    "\n",
    "# Get the status of our fine-tuning job.\n",
    "response = openai.FineTuningJob.retrieve(job_id)\n",
    "\n",
    "status = response[\"status\"]\n",
    "\n",
    "# If the job isn't done yet, poll it every 10 seconds.\n",
    "while status not in [\"succeeded\", \"failed\"]:\n",
    "    time.sleep(10)\n",
    "    \n",
    "    response = openai.FineTuningJob.retrieve(job_id)\n",
    "    print(response)\n",
    "    print(\"Elapsed time: {} minutes {} seconds\".format(int((time.time() - start_time) // 60), int((time.time() - start_time) % 60)))\n",
    "    status = response[\"status\"]\n",
    "    print(f'Status: {status}')\n",
    "    clear_output(wait=True)\n",
    "\n",
    "print(f'Fine-tuning job {job_id} finished with status: {status}')\n",
    "\n",
    "# List all fine-tuning jobs for this resource.\n",
    "print('Checking other fine-tune jobs for this resource.')\n",
    "response = openai.FineTuningJob.list()\n",
    "print(f'Found {len(response[\"data\"])} fine-tune jobs.')"
   ]
  },
  {
   "cell_type": "code",
   "execution_count": 14,
   "metadata": {},
   "outputs": [
    {
     "name": "stdout",
     "output_type": "stream",
     "text": [
      "{\n",
      "  \"hyperparameters\": {\n",
      "    \"n_epochs\": 2\n",
      "  },\n",
      "  \"status\": \"succeeded\",\n",
      "  \"model\": \"gpt-35-turbo-0613\",\n",
      "  \"fine_tuned_model\": \"gpt-35-turbo-0613.ft-19c5f03fc2174a68ae246ccdbeb176e3\",\n",
      "  \"training_file\": \"file-34d91c373738479e920ad74fdbf7189d\",\n",
      "  \"validation_file\": \"file-d42c5eea3766467d8cd4419bc70d2c76\",\n",
      "  \"result_files\": [\n",
      "    \"file-76021a118150436c93e0a425990729bd\"\n",
      "  ],\n",
      "  \"finished_at\": 1697971530,\n",
      "  \"trained_tokens\": 1048,\n",
      "  \"id\": \"ftjob-19c5f03fc2174a68ae246ccdbeb176e3\",\n",
      "  \"created_at\": 1697937111,\n",
      "  \"updated_at\": 1697971530,\n",
      "  \"object\": \"fine_tuning.job\"\n",
      "}\n"
     ]
    }
   ],
   "source": [
    "#Retrieve fine_tuned_model name\n",
    "\n",
    "response = openai.FineTuningJob.retrieve(job_id)\n",
    "\n",
    "print(response)\n",
    "fine_tuned_model = response[\"fine_tuned_model\"]\n",
    "\n"
   ]
  },
  {
   "cell_type": "code",
   "execution_count": 16,
   "metadata": {},
   "outputs": [
    {
     "name": "stdout",
     "output_type": "stream",
     "text": [
      "Creating a new deployment...\n",
      "<Response [201]>\n",
      "Created\n",
      "{'id': '/subscriptions/ff38e682-afe0-4ec2-8e18-d14de894978f/resourceGroups/kdhanger-rg/providers/Microsoft.CognitiveServices/accounts/kdopenai-finetune/deployments/gpt-35-ft', 'type': 'Microsoft.CognitiveServices/accounts/deployments', 'name': 'gpt-35-ft', 'sku': {'name': 'standard', 'capacity': 1}, 'properties': {'model': {'format': 'OpenAI', 'name': 'gpt-35-turbo-0613.ft-19c5f03fc2174a68ae246ccdbeb176e3', 'version': '1'}, 'versionUpgradeOption': 'NoAutoUpgrade', 'capabilities': {'chatCompletion': 'true'}, 'provisioningState': 'Creating', 'rateLimits': [{'key': 'request', 'renewalPeriod': 10, 'count': 1}, {'key': 'token', 'renewalPeriod': 60, 'count': 1000}]}, 'systemData': {'createdBy': 'kapildhanger@microsoft.com', 'createdByType': 'User', 'createdAt': '2023-10-22T12:27:03.9733787Z', 'lastModifiedBy': 'kapildhanger@microsoft.com', 'lastModifiedByType': 'User', 'lastModifiedAt': '2023-10-22T12:27:03.9733787Z'}, 'etag': '\"9152a4d9-74ac-4b66-9528-71c7d0dc02a5\"'}\n"
     ]
    }
   ],
   "source": [
    "import json\n",
    "import requests\n",
    "\n",
    "token= os.getenv(\"TEMP_AUTH_TOKEN\") \n",
    "subscription = \"ff38e682-afe0-4ec2-8e18-d14de894978f\"  \n",
    "resource_group = \"kdhanger-rg\"\n",
    "resource_name = \"kdopenai-finetune\"\n",
    "model_deployment_name =\"gpt-35-ft\"\n",
    "\n",
    "deploy_params = {'api-version': \"2023-05-01\"} \n",
    "deploy_headers = {'Authorization': 'Bearer {}'.format(token), 'Content-Type': 'application/json'}\n",
    "\n",
    "deploy_data = {\n",
    "    \"sku\": {\"name\": \"standard\", \"capacity\": 1}, \n",
    "    \"properties\": {\n",
    "        \"model\": {\n",
    "            \"format\": \"OpenAI\",\n",
    "            \"name\": \"gpt-35-turbo-0613.ft-19c5f03fc2174a68ae246ccdbeb176e3\", #retrieve this value from the previous call, it will look like gpt-35-turbo-0613.ft-b044a9d3cf9c4228b5d393567f693b83\n",
    "            \"version\": \"1\"\n",
    "        }\n",
    "    }\n",
    "}\n",
    "deploy_data = json.dumps(deploy_data)\n",
    "\n",
    "request_url = f'https://management.azure.com/subscriptions/{subscription}/resourceGroups/{resource_group}/providers/Microsoft.CognitiveServices/accounts/{resource_name}/deployments/{model_deployment_name}'\n",
    "\n",
    "print('Creating a new deployment...')\n",
    "\n",
    "r = requests.put(request_url, params=deploy_params, headers=deploy_headers, data=deploy_data)\n",
    "\n",
    "print(r)\n",
    "print(r.reason)\n",
    "print(r.json())"
   ]
  },
  {
   "cell_type": "code",
   "execution_count": 19,
   "metadata": {},
   "outputs": [
    {
     "name": "stdout",
     "output_type": "stream",
     "text": [
      "{\n",
      "  \"id\": \"chatcmpl-8CSTvxaRc1LTFiiWtSApCVR1bbdgc\",\n",
      "  \"object\": \"chat.completion\",\n",
      "  \"created\": 1697980111,\n",
      "  \"model\": \"gpt-35-turbo-0613.ft-19c5f03fc2174a68ae246ccdbeb176e3\",\n",
      "  \"choices\": [\n",
      "    {\n",
      "      \"index\": 0,\n",
      "      \"finish_reason\": \"stop\",\n",
      "      \"message\": {\n",
      "        \"role\": \"assistant\",\n",
      "        \"content\": \"Yes, many other Azure AI services also support customer managed keys. Some examples include Azure Cognitive Services, Azure Machine Learning, and Azure Bot Service.\"\n",
      "      }\n",
      "    }\n",
      "  ],\n",
      "  \"usage\": {\n",
      "    \"prompt_tokens\": 55,\n",
      "    \"completion_tokens\": 29,\n",
      "    \"total_tokens\": 84\n",
      "  }\n",
      "}\n",
      "Yes, many other Azure AI services also support customer managed keys. Some examples include Azure Cognitive Services, Azure Machine Learning, and Azure Bot Service.\n"
     ]
    }
   ],
   "source": [
    "#Note: The openai-python library support for Azure OpenAI is in preview.\n",
    "import os\n",
    "import openai\n",
    "openai.api_type = \"azure\"\n",
    "openai.api_base = os.getenv(\"AZURE_OPENAI_ENDPOINT\") \n",
    "openai.api_version = \"2023-05-15\"\n",
    "openai.api_key = os.getenv(\"AZURE_OPENAI_API_KEY\")\n",
    "\n",
    "response = openai.ChatCompletion.create(\n",
    "    engine=\"gpt-35-ft\", # engine = \"Custom deployment name you chose for your fine-tuning model\"\n",
    "    messages=[\n",
    "        {\"role\": \"system\", \"content\": \"You are a helpful assistant.\"},\n",
    "        {\"role\": \"user\", \"content\": \"Does Azure OpenAI support customer managed keys?\"},\n",
    "        {\"role\": \"assistant\", \"content\": \"Yes, customer managed keys are supported by Azure OpenAI.\"},\n",
    "        {\"role\": \"user\", \"content\": \"Do other Azure AI services support this too?\"}\n",
    "    ]\n",
    ")\n",
    "\n",
    "print(response)\n",
    "print(response['choices'][0]['message']['content'])"
   ]
  }
 ],
 "metadata": {
  "kernelspec": {
   "display_name": "copilot-venv",
   "language": "python",
   "name": "python3"
  },
  "language_info": {
   "codemirror_mode": {
    "name": "ipython",
    "version": 3
   },
   "file_extension": ".py",
   "mimetype": "text/x-python",
   "name": "python",
   "nbconvert_exporter": "python",
   "pygments_lexer": "ipython3",
   "version": "3.8.10"
  }
 },
 "nbformat": 4,
 "nbformat_minor": 2
}
