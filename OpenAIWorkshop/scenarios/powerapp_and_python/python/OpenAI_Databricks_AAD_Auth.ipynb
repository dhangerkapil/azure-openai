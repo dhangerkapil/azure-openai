{
 "cells": [
  {
   "cell_type": "code",
   "execution_count": null,
   "metadata": {
    "application/vnd.databricks.v1+cell": {
     "cellMetadata": {
      "byteLimit": 2048000,
      "rowLimit": 10000
     },
     "inputWidgets": {},
     "nuid": "6b5198fe-fe9e-4e2a-b4f9-3cfc98417c12",
     "showTitle": false,
     "title": ""
    }
   },
   "outputs": [],
   "source": [
    "pip install azure-identity"
   ]
  },
  {
   "cell_type": "code",
   "execution_count": null,
   "metadata": {
    "application/vnd.databricks.v1+cell": {
     "cellMetadata": {
      "byteLimit": 2048000,
      "rowLimit": 10000
     },
     "inputWidgets": {},
     "nuid": "8bff4154-dfd4-4e44-971b-1c7cf0532ba9",
     "showTitle": false,
     "title": ""
    }
   },
   "outputs": [],
   "source": [
    "pip install openai"
   ]
  },
  {
   "attachments": {},
   "cell_type": "markdown",
   "metadata": {},
   "source": [
    "This notebooks configures Azure OpenAI Python SDK to use Service Principal in Azure Active Directory and uses Token authentication rather than using Open AI access key. \n",
    "\n",
    "This notebook can be run on Databricks with secret scope configured. The Service Principal ID(Client Id), Client Secret and Azure Active Directory Tenant Id can be created in databricks backed vault and retrieved at runtime and stored in environment variables. Azure OpenAI python SDK automatically detects the environment variables and acquires the AAD token. \n",
    "\n",
    "The Service Principal needs to be granted \"Cognitive Services User\" role in Azure portal to the Azure Resource Group which contains the Azure OpenAI Resource or use the below Azure CLI commands.\n",
    "\n",
    "    openAIRg=\"<OpenAI Resource Group Name>\n",
    "    spId=\"<Service Principal GUID>\"\n",
    "    export resourceId=$(az group show -g $openAIRg | jq -r .id)\n",
    "    az role assignment create --role \"Cognitive Services User\" --assignee $spId --scope $resourceId"
   ]
  },
  {
   "cell_type": "code",
   "execution_count": null,
   "metadata": {
    "application/vnd.databricks.v1+cell": {
     "cellMetadata": {
      "byteLimit": 2048000,
      "rowLimit": 10000
     },
     "inputWidgets": {},
     "nuid": "c84780d9-4067-4bac-ad4b-49ae18de37a9",
     "showTitle": false,
     "title": ""
    }
   },
   "outputs": [],
   "source": [
    "\n",
    "import os\n",
    "\n",
    "# Specify the name of the secret scope and key vault secret name\n",
    "scope_name = \"akv\"\n",
    "\n",
    "# Get the secret value\n",
    "OPENAI_APP_ID = dbutils.secrets.get(scope=scope_name, key=\"openai-app-id\") # replace key name with actual key name from key vault\n",
    "OPENAI_APP_SECRET = dbutils.secrets.get(scope=scope_name, key=\"openai-app-secret\") # replace key name with actual key name from key vault\n",
    "TENANT_ID = dbutils.secrets.get(scope=scope_name, key=\"openai-tenantid\") # replace key name with actual key name from key vault\n",
    "\n",
    "# Use the secret value in your code\n",
    "print(OPENAI_APP_ID)\n",
    "print(OPENAI_APP_SECRET)\n",
    "print(TENANT_ID)\n",
    "\n",
    "os.environ[\"AZURE_TENANT_ID\"] = TENANT_ID\n",
    "os.environ[\"AZURE_CLIENT_ID\"] = OPENAI_APP_ID\n",
    "os.environ[\"AZURE_CLIENT_SECRET\"] = OPENAI_APP_SECRET\n"
   ]
  },
  {
   "attachments": {},
   "cell_type": "markdown",
   "metadata": {},
   "source": [
    "Option 1: Use DeviceCodeCredential to login interactively using user token"
   ]
  },
  {
   "cell_type": "code",
   "execution_count": null,
   "metadata": {},
   "outputs": [],
   "source": [
    "from azure.identity import DeviceCodeCredential\n",
    "import os\n",
    "\n",
    "import openai\n",
    "device_credential = DeviceCodeCredential(tenant_id=\"0fbe7234-45ea-498b-b7e4-1a8b2d3be4d9\")\n",
    "token = device_credential.get_token(\"https://cognitiveservices.azure.com/.default\")\n",
    "\n",
    "openai.api_type = 'azure_ad'\n",
    "openai.api_key = token.token"
   ]
  },
  {
   "attachments": {},
   "cell_type": "markdown",
   "metadata": {},
   "source": [
    "Option 2: Use DefaultAzureCredential to acquire token using AAD Service Principal"
   ]
  },
  {
   "cell_type": "code",
   "execution_count": null,
   "metadata": {
    "application/vnd.databricks.v1+cell": {
     "cellMetadata": {
      "byteLimit": 2048000,
      "rowLimit": 10000
     },
     "inputWidgets": {},
     "nuid": "fa51ecad-cbab-453e-b318-875761f8f14f",
     "showTitle": false,
     "title": ""
    }
   },
   "outputs": [],
   "source": [
    "from azure.identity import DefaultAzureCredential\n",
    "import openai\n",
    "\n",
    "# Request credential\n",
    "default_credential = DefaultAzureCredential()\n",
    "token = default_credential.get_token(\"https://cognitiveservices.azure.com/.default\")\n",
    "\n",
    "# Setup parameters\n",
    "openai.api_type = \"azure_ad\"\n",
    "openai.api_key = token.token\n",
    "openai.api_base = \"https://anildwaopenai2.openai.azure.com/\"\n",
    "openai.api_version = \"2023-03-15-preview\""
   ]
  },
  {
   "cell_type": "code",
   "execution_count": null,
   "metadata": {
    "application/vnd.databricks.v1+cell": {
     "cellMetadata": {
      "byteLimit": 2048000,
      "rowLimit": 10000
     },
     "inputWidgets": {},
     "nuid": "48f38c19-acfc-490e-bdb0-3c7aa1d5dffa",
     "showTitle": false,
     "title": ""
    }
   },
   "outputs": [],
   "source": [
    "completion = openai.ChatCompletion.create(deployment_id=\"chatgpt\", messages=[{\"role\": \"user\", \"content\": \"Hello world!\"}])\n",
    "print(completion.choices[0].message.content)"
   ]
  }
 ],
 "metadata": {
  "application/vnd.databricks.v1+notebook": {
   "dashboards": [],
   "language": "python",
   "notebookMetadata": {
    "pythonIndentUnit": 2
   },
   "notebookName": "openai",
   "notebookOrigID": 1999595736424843,
   "widgets": {}
  },
  "language_info": {
   "name": "python"
  }
 },
 "nbformat": 4,
 "nbformat_minor": 0
}
