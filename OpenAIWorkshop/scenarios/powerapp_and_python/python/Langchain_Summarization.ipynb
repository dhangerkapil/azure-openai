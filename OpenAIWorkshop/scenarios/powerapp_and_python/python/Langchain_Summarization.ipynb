{
 "cells": [
  {
   "attachments": {},
   "cell_type": "markdown",
   "metadata": {},
   "source": [
    "### Summarization patterns with langchain library\n",
    "Adapted from langchain's documentation at https://python.langchain.com/en/latest/modules/chains/index_examples/summarize.html"
   ]
  },
  {
   "attachments": {},
   "cell_type": "markdown",
   "metadata": {},
   "source": [
    "Do pip install ```pip install langchain``` and fill in your information below"
   ]
  },
  {
   "cell_type": "code",
   "execution_count": 1,
   "metadata": {},
   "outputs": [],
   "source": [
    "from azure.identity import InteractiveBrowserCredential\n",
    "import os\n",
    "\n",
    "import openai\n",
    "interactive_credential = InteractiveBrowserCredential() # add tenant_id=\"YOUR_TENANT_ID\" if you have more than 1 tenants\n",
    "token = interactive_credential.get_token(\"https://cognitiveservices.azure.com/.default\")"
   ]
  },
  {
   "cell_type": "code",
   "execution_count": 7,
   "metadata": {},
   "outputs": [],
   "source": [
    "from langchain.chat_models.azure_openai import AzureChatOpenAI\n",
    "from langchain.agents.react.base import DocstoreExplorer\n",
    "GPT_ENGINE = \"chatGpt-35-turbo\"\n",
    "os.environ[\"LANGCHAIN_HANDLER\"] = \"langchain\"\n",
    "os.environ[\"OPENAI_API_KEY\"] = \"\" # replace with API key in case you don't use Azure AAD\n",
    "os.environ[\"OPENAI_API_TYPE\"] = \"azure\" # replace with \"azure\" in case you don't use Azure AAD\n",
    "service_name = \"kdopenai-sc\"\n",
    "os.environ[\"OPENAI_API_BASE\"] = f\"https://{service_name}.openai.azure.com/\"\n",
    "os.environ[\"OPENAI_API_VERSION\"] = \"2023-03-15-preview\"\n",
    "llm= AzureChatOpenAI(deployment_name=GPT_ENGINE,temperature =0)\n",
    "\n",
    "from langchain import OpenAI, PromptTemplate, LLMChain\n",
    "from langchain.text_splitter import CharacterTextSplitter\n",
    "from langchain.chains.mapreduce import MapReduceChain\n",
    "from langchain.prompts import PromptTemplate\n",
    "text_splitter = CharacterTextSplitter()"
   ]
  },
  {
   "cell_type": "code",
   "execution_count": 4,
   "metadata": {},
   "outputs": [],
   "source": [
    "with open(\"state_of_the_union.txt\", encoding='utf-8') as f:\n",
    "    state_of_the_union = f.read()\n",
    "texts = text_splitter.split_text(state_of_the_union)"
   ]
  },
  {
   "cell_type": "code",
   "execution_count": 5,
   "metadata": {},
   "outputs": [],
   "source": [
    "from langchain.docstore.document import Document\n",
    "from langchain.chains.summarize import load_summarize_chain\n",
    "\n",
    "docs = [Document(page_content=t) for t in texts[:3]]"
   ]
  },
  {
   "attachments": {},
   "cell_type": "markdown",
   "metadata": {},
   "source": [
    "##### With map reduce pattern"
   ]
  },
  {
   "cell_type": "code",
   "execution_count": 8,
   "metadata": {},
   "outputs": [
    {
     "data": {
      "text/plain": [
       "\"President Biden addressed Congress and the nation, emphasizing the importance of American diplomacy and resolve in standing with Ukraine against Russian aggression. The US is taking robust action to target Russia's economy with sanctions and providing military, economic, and humanitarian assistance to Ukraine. The President also highlighted the success of the American Rescue Plan in providing economic relief and announced the passing of the Bipartisan Infrastructure Law, which will modernize infrastructure and promote environmental justice. He pledged to use taxpayer dollars to support American jobs by buying American products.\""
      ]
     },
     "execution_count": 8,
     "metadata": {},
     "output_type": "execute_result"
    }
   ],
   "source": [
    "chain = load_summarize_chain(llm, chain_type=\"map_reduce\")\n",
    "chain.run(docs)"
   ]
  },
  {
   "attachments": {},
   "cell_type": "markdown",
   "metadata": {},
   "source": [
    "##### With map stuff pattern"
   ]
  },
  {
   "cell_type": "code",
   "execution_count": 9,
   "metadata": {},
   "outputs": [
    {
     "data": {
      "text/plain": [
       "\"President Biden addressed Congress and the nation, highlighting the ongoing crisis in Ukraine and the US's response to Russian aggression. He announced economic sanctions against Russia and the mobilization of American ground forces, air squadrons, and ship deployments to protect NATO countries. He also discussed the American Rescue Plan and the Bipartisan Infrastructure Law, emphasizing the need to invest in America's infrastructure to create jobs and compete in the global economy. Biden pledged to use taxpayer dollars to rebuild America by buying American products to support American jobs.\""
      ]
     },
     "execution_count": 9,
     "metadata": {},
     "output_type": "execute_result"
    }
   ],
   "source": [
    "from langchain.chains.summarize import load_summarize_chain\n",
    "chain = load_summarize_chain(llm, chain_type=\"stuff\")\n",
    "\n",
    "chain.run(docs)\n"
   ]
  },
  {
   "attachments": {},
   "cell_type": "markdown",
   "metadata": {},
   "source": [
    "##### With refine pattern"
   ]
  },
  {
   "cell_type": "code",
   "execution_count": 10,
   "metadata": {},
   "outputs": [
    {
     "name": "stdout",
     "output_type": "stream",
     "text": [
      "\n",
      "\n",
      "President Biden addressed Congress and the nation, highlighting the strength and determination of the Ukrainian people in the face of Russian aggression. He emphasized the importance of American diplomacy and resolve in standing with Ukraine and building a coalition of freedom-loving nations to hold Russia accountable. The President announced the enforcement of powerful economic sanctions and the creation of a task force to go after the crimes of Russian oligarchs. He warned that dictators must pay a price for their aggression, or they will cause more chaos. Additionally, the United States is joining with European allies to seize Russian oligarchs' assets and closing off American airspace to all Russian flights. The US is providing military, economic, and humanitarian assistance to Ukraine, including over $1 billion in direct aid. American forces are mobilized to protect NATO countries, and the US has worked with 30 other countries to release 60 million barrels of oil from reserves around the world to help blunt gas prices. The world is choosing the side of peace and security in the battle between democracy and autocracy, and the US stands with the Ukrainian people in their fight for freedom. President Biden also highlighted the American Rescue Plan, which helped lift the nation out of crisis by delivering immediate economic relief for tens of millions of Americans, creating jobs, and cutting the cost of health insurance. He emphasized the importance of investing in America, educating Americans, growing the workforce, and building the economy from the bottom up and the middle out. The Bipartisan Infrastructure Law, the most sweeping investment to rebuild America in history, will modernize roads, airports, ports, and waterways all across America, create good jobs for millions of Americans, and promote environmental justice.\n"
     ]
    }
   ],
   "source": [
    "chain = load_summarize_chain(llm, chain_type=\"refine\")\n",
    "\n",
    "print(chain.run(docs))"
   ]
  },
  {
   "cell_type": "code",
   "execution_count": 11,
   "metadata": {},
   "outputs": [
    {
     "data": {
      "text/plain": [
       "{'intermediate_steps': ['President Biden addressed Congress and the nation, highlighting the strength and determination of the Ukrainian people in the face of Russian aggression. He emphasized the importance of American diplomacy and resolve in standing with Ukraine and building a coalition of freedom-loving nations to hold Russia accountable. The President announced the enforcement of powerful economic sanctions and the creation of a task force to go after the crimes of Russian oligarchs. He warned that dictators must pay a price for their aggression, or they will cause more chaos.',\n",
       "  \"\\n\\nPresident Biden addressed Congress and the nation, highlighting the strength and determination of the Ukrainian people in the face of Russian aggression. He emphasized the importance of American diplomacy and resolve in standing with Ukraine and building a coalition of freedom-loving nations to hold Russia accountable. The President announced the enforcement of powerful economic sanctions and the creation of a task force to go after the crimes of Russian oligarchs. He warned that dictators must pay a price for their aggression, or they will cause more chaos. Additionally, the United States is joining with European allies to seize Russian oligarchs' assets and closing off American airspace to all Russian flights. The US is providing military, economic, and humanitarian assistance to Ukraine, including over $1 billion in direct aid. American forces are mobilized to protect NATO countries, and the US has worked with 30 other countries to release 60 million barrels of oil from reserves around the world to help blunt gas prices. The world is choosing the side of peace and security in the battle between democracy and autocracy, and the US stands with the Ukrainian people in their fight for freedom.\",\n",
       "  \"\\n\\nPresident Biden addressed Congress and the nation, highlighting the strength and determination of the Ukrainian people in the face of Russian aggression. He emphasized the importance of American diplomacy and resolve in standing with Ukraine and building a coalition of freedom-loving nations to hold Russia accountable. The President announced the enforcement of powerful economic sanctions and the creation of a task force to go after the crimes of Russian oligarchs. He warned that dictators must pay a price for their aggression, or they will cause more chaos. Additionally, the United States is joining with European allies to seize Russian oligarchs' assets and closing off American airspace to all Russian flights. The US is providing military, economic, and humanitarian assistance to Ukraine, including over $1 billion in direct aid. American forces are mobilized to protect NATO countries, and the US has worked with 30 other countries to release 60 million barrels of oil from reserves around the world to help blunt gas prices. The world is choosing the side of peace and security in the battle between democracy and autocracy, and the US stands with the Ukrainian people in their fight for freedom. President Biden also highlighted the American Rescue Plan, which helped lift the nation out of crisis by delivering immediate economic relief for tens of millions of Americans, creating jobs, and cutting the cost of health insurance. He emphasized the importance of investing in America, educating Americans, growing the workforce, and building the economy from the bottom up and the middle out. The Bipartisan Infrastructure Law, the most sweeping investment to rebuild America in history, will modernize roads, airports, ports, and waterways all across America, withstand the devastating effects of the climate crisis, and promote environmental justice.\"],\n",
       " 'output_text': \"\\n\\nPresident Biden addressed Congress and the nation, highlighting the strength and determination of the Ukrainian people in the face of Russian aggression. He emphasized the importance of American diplomacy and resolve in standing with Ukraine and building a coalition of freedom-loving nations to hold Russia accountable. The President announced the enforcement of powerful economic sanctions and the creation of a task force to go after the crimes of Russian oligarchs. He warned that dictators must pay a price for their aggression, or they will cause more chaos. Additionally, the United States is joining with European allies to seize Russian oligarchs' assets and closing off American airspace to all Russian flights. The US is providing military, economic, and humanitarian assistance to Ukraine, including over $1 billion in direct aid. American forces are mobilized to protect NATO countries, and the US has worked with 30 other countries to release 60 million barrels of oil from reserves around the world to help blunt gas prices. The world is choosing the side of peace and security in the battle between democracy and autocracy, and the US stands with the Ukrainian people in their fight for freedom. President Biden also highlighted the American Rescue Plan, which helped lift the nation out of crisis by delivering immediate economic relief for tens of millions of Americans, creating jobs, and cutting the cost of health insurance. He emphasized the importance of investing in America, educating Americans, growing the workforce, and building the economy from the bottom up and the middle out. The Bipartisan Infrastructure Law, the most sweeping investment to rebuild America in history, will modernize roads, airports, ports, and waterways all across America, withstand the devastating effects of the climate crisis, and promote environmental justice.\"}"
      ]
     },
     "execution_count": 11,
     "metadata": {},
     "output_type": "execute_result"
    }
   ],
   "source": [
    "chain = load_summarize_chain(llm, chain_type=\"refine\", return_intermediate_steps=True)\n",
    "\n",
    "chain({\"input_documents\": docs}, return_only_outputs=True)\n"
   ]
  },
  {
   "attachments": {},
   "cell_type": "markdown",
   "metadata": {},
   "source": [
    "##### Customize prompt "
   ]
  },
  {
   "cell_type": "code",
   "execution_count": 12,
   "metadata": {},
   "outputs": [
    {
     "data": {
      "text/plain": [
       "{'intermediate_steps': ['President Biden addressed Congress and the nation, highlighting the strength and determination of the Ukrainian people in the face of Russian aggression. He emphasized the importance of American diplomacy and resolve in standing with Ukraine and its allies, and announced the imposition of economic sanctions on Russia, including cutting off access to technology and targeting Russian oligarchs. The U.S. Department of Justice is also assembling a task force to go after the crimes of Russian oligarchs.',\n",
       "  '\\n\\nPresident Biden addressed Congress and the nation, highlighting the strength and determination of the Ukrainian people in the face of Russian aggression. He emphasized the importance of American diplomacy and resolve in standing with Ukraine and its allies, and announced the imposition of economic sanctions on Russia, including cutting off access to technology and targeting Russian oligarchs. The U.S. Department of Justice is also assembling a task force to go after the crimes of Russian oligarchs. Additionally, the United States is joining with European allies to seize the ill-begotten gains of Russian oligarchs, closing off American airspace to all Russian flights, and providing military, economic, and humanitarian assistance to Ukraine. The United States is giving more than $1 billion in direct assistance to Ukraine and has mobilized American ground forces, air squadrons, and ship deployments to protect NATO countries. The United States and its allies will defend every inch of territory of NATO countries with the full force of their collective power. The United States has worked with 30 other countries to release 60 million barrels of oil from reserves around the world to help blunt gas prices at home. The world is choosing the side of peace and security in the battle between democracy and autocracy.',\n",
       "  '\\n\\nPresident Biden addressed Congress and the nation, highlighting the strength and determination of the Ukrainian people in the face of Russian aggression. He emphasized the importance of American diplomacy and resolve in standing with Ukraine and its allies, and announced the imposition of economic sanctions on Russia, including cutting off access to technology and targeting Russian oligarchs. The U.S. Department of Justice is also assembling a task force to go after the crimes of Russian oligarchs. Additionally, the United States is joining with European allies to seize the ill-begotten gains of Russian oligarchs, closing off American airspace to all Russian flights, and providing military, economic, and humanitarian assistance to Ukraine. The United States is giving more than $1 billion in direct assistance to Ukraine and has mobilized American ground forces, air squadrons, and ship deployments to protect NATO countries. The United States and its allies will defend every inch of territory of NATO countries with the full force of their collective power. The United States has worked with 30 other countries to release 60 million barrels of oil from reserves around the world to help blunt gas prices at home. The world is choosing the side of peace and security in the battle between democracy and autocracy. \\n\\nIn addition, President Biden highlighted the struggles of American families living paycheck to paycheck and announced the success of the American Rescue Plan in providing economic relief and creating jobs. He emphasized the need for a new economic vision for America, including investing in infrastructure and education, growing the workforce, and building the economy from the bottom up and the middle out. The Bipartisan Infrastructure Law was passed to rebuild America, with plans to modernize roads, airports, ports, and waterways, and to promote environmental justice. The plan includes the creation of a national network of 500,000 electric vehicle charging stations, replacing lead pipes, and providing affordable high-speed internet for all Americans. The government will also prioritize buying American products to support American jobs. Over 4,000 projects have already been announced, and the government will begin fixing over 65,000 miles of highway and 1,500 bridges in disrepair this year.'],\n",
       " 'output_text': '\\n\\nPresident Biden addressed Congress and the nation, highlighting the strength and determination of the Ukrainian people in the face of Russian aggression. He emphasized the importance of American diplomacy and resolve in standing with Ukraine and its allies, and announced the imposition of economic sanctions on Russia, including cutting off access to technology and targeting Russian oligarchs. The U.S. Department of Justice is also assembling a task force to go after the crimes of Russian oligarchs. Additionally, the United States is joining with European allies to seize the ill-begotten gains of Russian oligarchs, closing off American airspace to all Russian flights, and providing military, economic, and humanitarian assistance to Ukraine. The United States is giving more than $1 billion in direct assistance to Ukraine and has mobilized American ground forces, air squadrons, and ship deployments to protect NATO countries. The United States and its allies will defend every inch of territory of NATO countries with the full force of their collective power. The United States has worked with 30 other countries to release 60 million barrels of oil from reserves around the world to help blunt gas prices at home. The world is choosing the side of peace and security in the battle between democracy and autocracy. \\n\\nIn addition, President Biden highlighted the struggles of American families living paycheck to paycheck and announced the success of the American Rescue Plan in providing economic relief and creating jobs. He emphasized the need for a new economic vision for America, including investing in infrastructure and education, growing the workforce, and building the economy from the bottom up and the middle out. The Bipartisan Infrastructure Law was passed to rebuild America, with plans to modernize roads, airports, ports, and waterways, and to promote environmental justice. The plan includes the creation of a national network of 500,000 electric vehicle charging stations, replacing lead pipes, and providing affordable high-speed internet for all Americans. The government will also prioritize buying American products to support American jobs. Over 4,000 projects have already been announced, and the government will begin fixing over 65,000 miles of highway and 1,500 bridges in disrepair this year.'}"
      ]
     },
     "execution_count": 12,
     "metadata": {},
     "output_type": "execute_result"
    }
   ],
   "source": [
    "prompt_template = \"\"\"Write a concise summary of the following:\n",
    "\n",
    "\n",
    "{text}\n",
    "\n",
    "\n",
    "CONCISE SUMMARY:\"\"\"\n",
    "PROMPT = PromptTemplate(template=prompt_template, input_variables=[\"text\"])\n",
    "refine_template = (\n",
    "    \"Your job is to produce a final summary\\n\"\n",
    "    \"We have provided an existing summary up to a certain point: {existing_answer}\\n\"\n",
    "    \"We have the opportunity to refine the existing summary\"\n",
    "    \"(only if needed) with some more context below.\\n\"\n",
    "    \"------------\\n\"\n",
    "    \"{text}\\n\"\n",
    "    \"------------\\n\"\n",
    "    \"Given the new context, refine the original summary. Make sure to address the list of problems, list of solutions and any following action\"\n",
    "    \"If the context isn't useful, return the original summary.\"\n",
    ")\n",
    "refine_prompt = PromptTemplate(\n",
    "    input_variables=[\"existing_answer\", \"text\"],\n",
    "    template=refine_template,\n",
    ")\n",
    "chain = load_summarize_chain(llm, chain_type=\"refine\", return_intermediate_steps=True, question_prompt=PROMPT, refine_prompt=refine_prompt)\n",
    "chain({\"input_documents\": docs}, return_only_outputs=True)"
   ]
  }
 ],
 "metadata": {
  "kernelspec": {
   "display_name": "forecasting",
   "language": "python",
   "name": "python3"
  },
  "language_info": {
   "codemirror_mode": {
    "name": "ipython",
    "version": 3
   },
   "file_extension": ".py",
   "mimetype": "text/x-python",
   "name": "python",
   "nbconvert_exporter": "python",
   "pygments_lexer": "ipython3",
   "version": "3.9.3"
  },
  "orig_nbformat": 4
 },
 "nbformat": 4,
 "nbformat_minor": 2
}
